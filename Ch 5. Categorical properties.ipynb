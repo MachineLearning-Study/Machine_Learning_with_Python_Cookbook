{
  "nbformat": 4,
  "nbformat_minor": 0,
  "metadata": {
    "colab": {
      "name": "Ch 5.Categorical properties",
      "provenance": [],
      "collapsed_sections": []
    },
    "kernelspec": {
      "name": "python3",
      "display_name": "Python 3"
    }
  },
  "cells": [
    {
      "cell_type": "markdown",
      "metadata": {
        "id": "awk0g0gzqGBx"
      },
      "source": [
        "#5.1 순서가 없는 범주형 특성 인코딩하기\n",
        "\n",
        "*사이킷런의 LabelBinarizer 사용*"
      ]
    },
    {
      "cell_type": "code",
      "metadata": {
        "id": "bqr2p6yaij6p"
      },
      "source": [
        "\n",
        "#라이브러리 임포트\n",
        "import numpy as np\n",
        "from sklearn.preprocessing import LabelBinarizer, MultiLabelBinarizer\n",
        "from sklearn.preprocessing import OneHotEncoder\n",
        "from sklearn.preprocessing import LabelEncoder"
      ],
      "execution_count": null,
      "outputs": []
    },
    {
      "cell_type": "code",
      "metadata": {
        "colab": {
          "base_uri": "https://localhost:8080/"
        },
        "id": "WwrZ9TqzoT_J",
        "outputId": "bad3f617-c2e3-4acf-d278-742fc0b06d40"
      },
      "source": [
        "#특성 만듬\n",
        "feature = np.array([[\"Texas\"],\n",
        "                    [\"California\"],\n",
        "                    [\"Texas\"],\n",
        "                    [\"Delaware\"],\n",
        "                    [\"Texas\"]])\n",
        "\n",
        "# 원-핫 인코더 만듬\n",
        "one_hot = LabelBinarizer()\n",
        "\n",
        "# 특성을 원-핫 인코딩\n",
        "one_hot.fit_transform(feature)"
      ],
      "execution_count": null,
      "outputs": [
        {
          "output_type": "execute_result",
          "data": {
            "text/plain": [
              "array([[0, 0, 1],\n",
              "       [1, 0, 0],\n",
              "       [0, 0, 1],\n",
              "       [0, 1, 0],\n",
              "       [0, 0, 1]])"
            ]
          },
          "metadata": {
            "tags": []
          },
          "execution_count": 2
        }
      ]
    },
    {
      "cell_type": "code",
      "metadata": {
        "colab": {
          "base_uri": "https://localhost:8080/"
        },
        "id": "NBuDA1uUvIF7",
        "outputId": "d58bd879-4ea5-4be2-e314-e5b9a989faeb"
      },
      "source": [
        "one_hot.fit(feature)"
      ],
      "execution_count": null,
      "outputs": [
        {
          "output_type": "execute_result",
          "data": {
            "text/plain": [
              "LabelBinarizer(neg_label=0, pos_label=1, sparse_output=False)"
            ]
          },
          "metadata": {
            "tags": []
          },
          "execution_count": 3
        }
      ]
    },
    {
      "cell_type": "code",
      "metadata": {
        "colab": {
          "base_uri": "https://localhost:8080/"
        },
        "id": "LftkqPnHvSdS",
        "outputId": "7d20706d-0e66-4dcb-e6b0-bc333b252797"
      },
      "source": [
        "one_hot.transform(feature)"
      ],
      "execution_count": null,
      "outputs": [
        {
          "output_type": "execute_result",
          "data": {
            "text/plain": [
              "array([[0, 0, 1],\n",
              "       [1, 0, 0],\n",
              "       [0, 0, 1],\n",
              "       [0, 1, 0],\n",
              "       [0, 0, 1]])"
            ]
          },
          "metadata": {
            "tags": []
          },
          "execution_count": 4
        }
      ]
    },
    {
      "cell_type": "code",
      "metadata": {
        "colab": {
          "base_uri": "https://localhost:8080/"
        },
        "id": "iADkLTproZdM",
        "outputId": "bea70c53-6f81-4afc-a629-f2b9b1bd796e"
      },
      "source": [
        "# 특성의 클래스를 확인\n",
        "one_hot.classes_"
      ],
      "execution_count": null,
      "outputs": [
        {
          "output_type": "execute_result",
          "data": {
            "text/plain": [
              "array(['California', 'Delaware', 'Texas'], dtype='<U10')"
            ]
          },
          "metadata": {
            "tags": []
          },
          "execution_count": 5
        }
      ]
    },
    {
      "cell_type": "code",
      "metadata": {
        "colab": {
          "base_uri": "https://localhost:8080/"
        },
        "id": "JRfM0Zbkp3u6",
        "outputId": "0e75c0a6-6f39-4207-9ea7-22005e881bc2"
      },
      "source": [
        "# 원-핫 인코딩 되돌리기\n",
        "one_hot.inverse_transform(one_hot.transform(feature))"
      ],
      "execution_count": null,
      "outputs": [
        {
          "output_type": "execute_result",
          "data": {
            "text/plain": [
              "array(['Texas', 'California', 'Texas', 'Delaware', 'Texas'], dtype='<U10')"
            ]
          },
          "metadata": {
            "tags": []
          },
          "execution_count": 6
        }
      ]
    },
    {
      "cell_type": "markdown",
      "metadata": {
        "id": "f2MNM0I2sHMq"
      },
      "source": [
        "*다중 클래스를 인코딩하기*"
      ]
    },
    {
      "cell_type": "code",
      "metadata": {
        "colab": {
          "base_uri": "https://localhost:8080/"
        },
        "id": "tqlQRmfysLup",
        "outputId": "12266595-cd20-42c8-d433-7e61396e732e"
      },
      "source": [
        "# 다중 클래스 특성 만듬\n",
        "multiclass_feature = [(\"Texas\", \"Florida\"),\n",
        "                      (\"California\", \"Alabama\"),\n",
        "                      (\"Texas\", \"Florida\"),\n",
        "                      (\"Delware\",\"Florida\"),\n",
        "                      (\"Texas\",\"Albama\")]\n",
        "\n",
        "# 다중 클래스 원-핫 인코더 만듬\n",
        "one_hot_multiclass=MultiLabelBinarizer()\n",
        "\n",
        "# 다중 클래스 특성을 원-핫 인코딩\n",
        "one_hot_multiclass.fit_transform(multiclass_feature)"
      ],
      "execution_count": null,
      "outputs": [
        {
          "output_type": "execute_result",
          "data": {
            "text/plain": [
              "array([[0, 0, 0, 0, 1, 1],\n",
              "       [1, 0, 1, 0, 0, 0],\n",
              "       [0, 0, 0, 0, 1, 1],\n",
              "       [0, 0, 0, 1, 1, 0],\n",
              "       [0, 1, 0, 0, 0, 1]])"
            ]
          },
          "metadata": {
            "tags": []
          },
          "execution_count": 7
        }
      ]
    },
    {
      "cell_type": "code",
      "metadata": {
        "colab": {
          "base_uri": "https://localhost:8080/"
        },
        "id": "Hqlj96tetTJ1",
        "outputId": "f44ab5e8-f173-4a62-92d9-3ec856c53cad"
      },
      "source": [
        "# 클래스 확인\n",
        "one_hot_multiclass.classes_"
      ],
      "execution_count": null,
      "outputs": [
        {
          "output_type": "execute_result",
          "data": {
            "text/plain": [
              "array(['Alabama', 'Albama', 'California', 'Delware', 'Florida', 'Texas'],\n",
              "      dtype=object)"
            ]
          },
          "metadata": {
            "tags": []
          },
          "execution_count": 8
        }
      ]
    },
    {
      "cell_type": "markdown",
      "metadata": {
        "id": "wcZpCeIptlWg"
      },
      "source": [
        "*OneHotEncoder 클래스 사용 - 희소 배열 반환*"
      ]
    },
    {
      "cell_type": "code",
      "metadata": {
        "colab": {
          "base_uri": "https://localhost:8080/"
        },
        "id": "eRdus6jntwso",
        "outputId": "d8f38e40-b7b1-43a3-bc0a-fef1e1cf03c3"
      },
      "source": [
        "# 여러 개의 열이 잇는 특성 배열 만듬\n",
        "feature=np.array([[\"Texas\",1],\n",
        "                  [\"California\",1],\n",
        "                  [\"Texas\",3],\n",
        "                  [\"Delaware\",1],\n",
        "                  [\"Texas\",1]])\n",
        "\n",
        "one_hot_encoder=OneHotEncoder(sparse=False)\n",
        "one_hot_encoder.fit_transform(feature)"
      ],
      "execution_count": null,
      "outputs": [
        {
          "output_type": "execute_result",
          "data": {
            "text/plain": [
              "array([[0., 0., 1., 1., 0.],\n",
              "       [1., 0., 0., 1., 0.],\n",
              "       [0., 0., 1., 0., 1.],\n",
              "       [0., 1., 0., 1., 0.],\n",
              "       [0., 0., 1., 1., 0.]])"
            ]
          },
          "metadata": {
            "tags": []
          },
          "execution_count": 9
        }
      ]
    },
    {
      "cell_type": "code",
      "metadata": {
        "colab": {
          "base_uri": "https://localhost:8080/"
        },
        "id": "y0dUnXNzwOCp",
        "outputId": "76aedad0-2ad5-4b76-d34b-ea944ba75bbb"
      },
      "source": [
        "# 클래스 확인\n",
        "one_hot_encoder.categories_"
      ],
      "execution_count": null,
      "outputs": [
        {
          "output_type": "execute_result",
          "data": {
            "text/plain": [
              "[array(['California', 'Delaware', 'Texas'], dtype='<U10'),\n",
              " array(['1', '3'], dtype='<U10')]"
            ]
          },
          "metadata": {
            "tags": []
          },
          "execution_count": 10
        }
      ]
    },
    {
      "cell_type": "markdown",
      "metadata": {
        "id": "EfW6vEtIqRMe"
      },
      "source": [
        "*판다스를 사용해서 원-핫 인코딩*"
      ]
    },
    {
      "cell_type": "code",
      "metadata": {
        "id": "4uvrEh2EqT-4"
      },
      "source": [
        "# 라이브러리 임포트\n",
        "\n",
        "import pandas as pd"
      ],
      "execution_count": null,
      "outputs": []
    },
    {
      "cell_type": "code",
      "metadata": {
        "colab": {
          "base_uri": "https://localhost:8080/",
          "height": 198
        },
        "id": "-D9IGESEqYIS",
        "outputId": "b7f4247f-e166-4e88-ddb7-568ef07b856e"
      },
      "source": [
        "# 특성으로 더미(dummy) 변수 생성\n",
        "pd.get_dummies(feature[:,0])"
      ],
      "execution_count": null,
      "outputs": [
        {
          "output_type": "execute_result",
          "data": {
            "text/html": [
              "<div>\n",
              "<style scoped>\n",
              "    .dataframe tbody tr th:only-of-type {\n",
              "        vertical-align: middle;\n",
              "    }\n",
              "\n",
              "    .dataframe tbody tr th {\n",
              "        vertical-align: top;\n",
              "    }\n",
              "\n",
              "    .dataframe thead th {\n",
              "        text-align: right;\n",
              "    }\n",
              "</style>\n",
              "<table border=\"1\" class=\"dataframe\">\n",
              "  <thead>\n",
              "    <tr style=\"text-align: right;\">\n",
              "      <th></th>\n",
              "      <th>California</th>\n",
              "      <th>Delaware</th>\n",
              "      <th>Texas</th>\n",
              "    </tr>\n",
              "  </thead>\n",
              "  <tbody>\n",
              "    <tr>\n",
              "      <th>0</th>\n",
              "      <td>0</td>\n",
              "      <td>0</td>\n",
              "      <td>1</td>\n",
              "    </tr>\n",
              "    <tr>\n",
              "      <th>1</th>\n",
              "      <td>1</td>\n",
              "      <td>0</td>\n",
              "      <td>0</td>\n",
              "    </tr>\n",
              "    <tr>\n",
              "      <th>2</th>\n",
              "      <td>0</td>\n",
              "      <td>0</td>\n",
              "      <td>1</td>\n",
              "    </tr>\n",
              "    <tr>\n",
              "      <th>3</th>\n",
              "      <td>0</td>\n",
              "      <td>1</td>\n",
              "      <td>0</td>\n",
              "    </tr>\n",
              "    <tr>\n",
              "      <th>4</th>\n",
              "      <td>0</td>\n",
              "      <td>0</td>\n",
              "      <td>1</td>\n",
              "    </tr>\n",
              "  </tbody>\n",
              "</table>\n",
              "</div>"
            ],
            "text/plain": [
              "   California  Delaware  Texas\n",
              "0           0         0      1\n",
              "1           1         0      0\n",
              "2           0         0      1\n",
              "3           0         1      0\n",
              "4           0         0      1"
            ]
          },
          "metadata": {
            "tags": []
          },
          "execution_count": 14
        }
      ]
    },
    {
      "cell_type": "markdown",
      "metadata": {
        "id": "SP97GIYNy6FZ"
      },
      "source": [
        "#5.2 순서가 있는 범주형 특성 인코딩하기"
      ]
    },
    {
      "cell_type": "code",
      "metadata": {
        "id": "04hSHQ0ky9UP"
      },
      "source": [
        "replace 메서드를 사용하여 문자열 레이블을 수치값으로 반환"
      ],
      "execution_count": null,
      "outputs": []
    },
    {
      "cell_type": "code",
      "metadata": {
        "colab": {
          "base_uri": "https://localhost:8080/"
        },
        "id": "jhypDG9k0P_K",
        "outputId": "9f4e0322-7f18-43e8-d7d6-eeb959ab508b"
      },
      "source": [
        "#특성 만들기\n",
        "dataframe=pd.DataFrame({\"Score\":[\"Low\",\"Low\",\"Medium\",\"Medium\",\"High\"]})\n",
        "\n",
        "#매핑 딕셔너리 만들기\n",
        "scale_mapper={\"Low\":1,\n",
        "              \"Medium\":2,\n",
        "              \"High\":3}\n",
        "\n",
        "#특성을 정수로 변환\n",
        "dataframe[\"Score\"].replace(scale_mapper)"
      ],
      "execution_count": null,
      "outputs": [
        {
          "output_type": "execute_result",
          "data": {
            "text/plain": [
              "0    1\n",
              "1    1\n",
              "2    2\n",
              "3    2\n",
              "4    3\n",
              "Name: Score, dtype: int64"
            ]
          },
          "metadata": {
            "tags": []
          },
          "execution_count": 15
        }
      ]
    },
    {
      "cell_type": "code",
      "metadata": {
        "colab": {
          "base_uri": "https://localhost:8080/"
        },
        "id": "fpDMmZTG1OVO",
        "outputId": "f738a489-1aee-4d27-82c4-eb4d556ea6e9"
      },
      "source": [
        "# 클래스에 매핑하는 수치값에 주의를 기울여야 한다.\n",
        "\n",
        "dataframe=pd.DataFrame({\"Score\":[\"Low\",\"Low\",\"Medium\",\"Medium\",\"High\",\"Barely More Than Medium\"]})\n",
        "scale_mapper={\"Low\":1,\n",
        "              \"Medium\":2,\n",
        "              \"Barely More Than Medium\":2.1,\n",
        "              \"High\":3}\n",
        "dataframe[\"Score\"].replace(scale_mapper)"
      ],
      "execution_count": null,
      "outputs": [
        {
          "output_type": "execute_result",
          "data": {
            "text/plain": [
              "0    1.0\n",
              "1    1.0\n",
              "2    2.0\n",
              "3    2.0\n",
              "4    3.0\n",
              "5    2.1\n",
              "Name: Score, dtype: float64"
            ]
          },
          "metadata": {
            "tags": []
          },
          "execution_count": 16
        }
      ]
    },
    {
      "cell_type": "markdown",
      "metadata": {
        "id": "8XIVlnDtmbk7"
      },
      "source": [
        "*OrdinalEncoder을 사용해 클래스 범주를 순서대로 변환*"
      ]
    },
    {
      "cell_type": "code",
      "metadata": {
        "colab": {
          "base_uri": "https://localhost:8080/"
        },
        "id": "N3L1Wz083XK4",
        "outputId": "6a4fc0c7-666c-4e7b-c384-4b2353f3c156"
      },
      "source": [
        "from sklearn.preprocessing import OrdinalEncoder\n",
        "\n",
        "features=np.array([[\"Low\",10],\n",
        "                   [\"High\",50],\n",
        "                   [\"Medium\",3]])\n",
        "\n",
        "ordinal_encoder=OrdinalEncoder()\n",
        "ordinal_encoder.fit_transform(features)\n"
      ],
      "execution_count": null,
      "outputs": [
        {
          "output_type": "execute_result",
          "data": {
            "text/plain": [
              "array([[1., 0.],\n",
              "       [0., 2.],\n",
              "       [2., 1.]])"
            ]
          },
          "metadata": {
            "tags": []
          },
          "execution_count": 17
        }
      ]
    },
    {
      "cell_type": "code",
      "metadata": {
        "id": "5P_f7z_coeId"
      },
      "source": [
        "ordinal_encoder.categories_"
      ],
      "execution_count": null,
      "outputs": []
    },
    {
      "cell_type": "markdown",
      "metadata": {
        "id": "hmD2hBV2mxeW"
      },
      "source": [
        "#5.3 특성 딕셔너리를 인코딩하기"
      ]
    },
    {
      "cell_type": "markdown",
      "metadata": {
        "id": "Y05fU7JDnJ8f"
      },
      "source": [
        "*DictVectorizer 을 사용*"
      ]
    },
    {
      "cell_type": "code",
      "metadata": {
        "colab": {
          "base_uri": "https://localhost:8080/"
        },
        "id": "7977A0qQnI8k",
        "outputId": "86b60adf-8a0f-44af-9a5b-b4017c8e2aa1"
      },
      "source": [
        "# 라이브러리를 임포트\n",
        "\n",
        "from sklearn.feature_extraction import DictVectorizer\n",
        "\n",
        "# 딕셔너리를 만듭니다.\n",
        "data_dict = [{\"Red\":2, \"Blue\":4},\n",
        "             {\"Red\":4, \"Blue\":3},\n",
        "             {\"Red\":1, \"Yellow\":2},\n",
        "             {\"Red\":2, \"Yellow\":2}]\n",
        "\n",
        "# Dicvectorizer 객체를 만듭니다\n",
        "dicvectorizer = DictVectorizer(sparse=False)\n",
        "\n",
        "# 딕셔너리를 특성 행렬로 변환합니다\n",
        "features = dicvectorizer.fit_transform(data_dict)\n",
        "\n",
        "features"
      ],
      "execution_count": null,
      "outputs": [
        {
          "output_type": "execute_result",
          "data": {
            "text/plain": [
              "array([[4., 2., 0.],\n",
              "       [3., 4., 0.],\n",
              "       [0., 1., 2.],\n",
              "       [0., 2., 2.]])"
            ]
          },
          "metadata": {
            "tags": []
          },
          "execution_count": 18
        }
      ]
    },
    {
      "cell_type": "code",
      "metadata": {
        "colab": {
          "base_uri": "https://localhost:8080/"
        },
        "id": "EQrPPJIso2iS",
        "outputId": "03bac8a3-f7b8-4a29-a7c5-5cbf0fff69c3"
      },
      "source": [
        "# 특성 이름을 얻기\n",
        "features_names=dicvectorizer.get_feature_names()\n",
        "\n",
        "# 특성 이름 확인\n",
        "features_names"
      ],
      "execution_count": null,
      "outputs": [
        {
          "output_type": "execute_result",
          "data": {
            "text/plain": [
              "['Blue', 'Red', 'Yellow']"
            ]
          },
          "metadata": {
            "tags": []
          },
          "execution_count": 19
        }
      ]
    },
    {
      "cell_type": "code",
      "metadata": {
        "colab": {
          "base_uri": "https://localhost:8080/",
          "height": 168
        },
        "id": "u5JuoxVlpD4v",
        "outputId": "dcb82d75-4052-4873-cb64-0d482ffd5166"
      },
      "source": [
        "# 판다스 DaTaFrame으로 출력한다\n",
        "\n",
        "import pandas as pd\n",
        "\n",
        "pd.DataFrame(features, columns=features_names)"
      ],
      "execution_count": null,
      "outputs": [
        {
          "output_type": "execute_result",
          "data": {
            "text/html": [
              "<div>\n",
              "<style scoped>\n",
              "    .dataframe tbody tr th:only-of-type {\n",
              "        vertical-align: middle;\n",
              "    }\n",
              "\n",
              "    .dataframe tbody tr th {\n",
              "        vertical-align: top;\n",
              "    }\n",
              "\n",
              "    .dataframe thead th {\n",
              "        text-align: right;\n",
              "    }\n",
              "</style>\n",
              "<table border=\"1\" class=\"dataframe\">\n",
              "  <thead>\n",
              "    <tr style=\"text-align: right;\">\n",
              "      <th></th>\n",
              "      <th>Blue</th>\n",
              "      <th>Red</th>\n",
              "      <th>Yellow</th>\n",
              "    </tr>\n",
              "  </thead>\n",
              "  <tbody>\n",
              "    <tr>\n",
              "      <th>0</th>\n",
              "      <td>4.0</td>\n",
              "      <td>2.0</td>\n",
              "      <td>0.0</td>\n",
              "    </tr>\n",
              "    <tr>\n",
              "      <th>1</th>\n",
              "      <td>3.0</td>\n",
              "      <td>4.0</td>\n",
              "      <td>0.0</td>\n",
              "    </tr>\n",
              "    <tr>\n",
              "      <th>2</th>\n",
              "      <td>0.0</td>\n",
              "      <td>1.0</td>\n",
              "      <td>2.0</td>\n",
              "    </tr>\n",
              "    <tr>\n",
              "      <th>3</th>\n",
              "      <td>0.0</td>\n",
              "      <td>2.0</td>\n",
              "      <td>2.0</td>\n",
              "    </tr>\n",
              "  </tbody>\n",
              "</table>\n",
              "</div>"
            ],
            "text/plain": [
              "   Blue  Red  Yellow\n",
              "0   4.0  2.0     0.0\n",
              "1   3.0  4.0     0.0\n",
              "2   0.0  1.0     2.0\n",
              "3   0.0  2.0     2.0"
            ]
          },
          "metadata": {
            "tags": []
          },
          "execution_count": 20
        }
      ]
    },
    {
      "cell_type": "markdown",
      "metadata": {
        "id": "KZlont0esVqe"
      },
      "source": [
        "#5.4 누락된 클래스 값 대체하기"
      ]
    },
    {
      "cell_type": "markdown",
      "metadata": {
        "id": "mAhclaeXvmRl"
      },
      "source": [
        "머신러닝 분류 알고리즘을 훈련하여 누락된 값 예측\n",
        "\n",
        "KNN 분류기를 사용\n"
      ]
    },
    {
      "cell_type": "code",
      "metadata": {
        "id": "V0JLbJpssaO-"
      },
      "source": [
        "# 라이브러리를 임포트\n",
        "import numpy as np\n",
        "from sklearn.neighbors import KNeighborsClassifier\n",
        "\n",
        "# 범주형 특성을 가진 특성 행렬을 만듬\n",
        "X = np.array([[0, 2.10, 1.45],\n",
        "              [1, 1.18, 1.33],\n",
        "              [0, 1.22, 1.27],\n",
        "              [1,-0.21,-1.19]])\n",
        "\n",
        "# 범주형 특성에 누락된 값이 있는 특성 행렬을 만듬\n",
        "X_with_nan = np. array([[np.nan, 0.87, 1.31],\n",
        "                        [np.nan, -0.67, -0.22]])\n"
      ],
      "execution_count": null,
      "outputs": []
    },
    {
      "cell_type": "code",
      "metadata": {
        "colab": {
          "base_uri": "https://localhost:8080/"
        },
        "id": "d7e-FbqrxpQU",
        "outputId": "5bd59ee9-8bc5-411d-d32d-932f975f32e6"
      },
      "source": [
        "# KNN 학습기를 훈련\n",
        "clf=KNeighborsClassifier(3,weights='distance')\n",
        "trained_model = clf.fit(X[:,1:], X[:,0])\n",
        "\n",
        "# 누락된 값의 클래스를 예측\n",
        "imputed_values = trained_model.predict(X_with_nan[:,1:])\n",
        "\n",
        "# 예측된 클래스와 원본 특성을 열로 합침\n",
        "X_with_imputed = np.hstack((imputed_values.reshape(-1,1), X_with_nan[:,1:]))\n",
        "\n",
        "# 두 특성 행렬을 연결\n",
        "np.vstack((X_with_imputed, X))"
      ],
      "execution_count": null,
      "outputs": [
        {
          "output_type": "execute_result",
          "data": {
            "text/plain": [
              "array([[ 0.  ,  0.87,  1.31],\n",
              "       [ 1.  , -0.67, -0.22],\n",
              "       [ 0.  ,  2.1 ,  1.45],\n",
              "       [ 1.  ,  1.18,  1.33],\n",
              "       [ 0.  ,  1.22,  1.27],\n",
              "       [ 1.  , -0.21, -1.19]])"
            ]
          },
          "metadata": {
            "tags": []
          },
          "execution_count": 22
        }
      ]
    },
    {
      "cell_type": "markdown",
      "metadata": {
        "id": "PqPGdBSevyno"
      },
      "source": [
        "누락된 값을 특성에서 가장 자주 등장하는 값으로 채우기"
      ]
    },
    {
      "cell_type": "code",
      "metadata": {
        "colab": {
          "base_uri": "https://localhost:8080/"
        },
        "id": "kkVYUOrDu38i",
        "outputId": "0babdd98-e192-4085-bcc1-1fbb3118d73d"
      },
      "source": [
        "from sklearn.impute import SimpleImputer\n",
        "\n",
        "# 두 개의 특성 행렬을 합침\n",
        "X_complete = np.vstack((X_with_nan, X))\n",
        "\n",
        "imputer = SimpleImputer(strategy='most_frequent')\n",
        "imputer.fit_transform(X_complete)"
      ],
      "execution_count": null,
      "outputs": [
        {
          "output_type": "execute_result",
          "data": {
            "text/plain": [
              "array([[ 0.  ,  0.87,  1.31],\n",
              "       [ 0.  , -0.67, -0.22],\n",
              "       [ 0.  ,  2.1 ,  1.45],\n",
              "       [ 1.  ,  1.18,  1.33],\n",
              "       [ 0.  ,  1.22,  1.27],\n",
              "       [ 1.  , -0.21, -1.19]])"
            ]
          },
          "metadata": {
            "tags": []
          },
          "execution_count": 23
        }
      ]
    },
    {
      "cell_type": "markdown",
      "metadata": {
        "id": "wHtfvXzBxwoA"
      },
      "source": [
        "#5.5. 불균형한 클래스 다루기"
      ]
    },
    {
      "cell_type": "code",
      "metadata": {
        "colab": {
          "base_uri": "https://localhost:8080/"
        },
        "id": "Gapt1BK0x_a9",
        "outputId": "568e1cd2-27d3-4d74-8d3a-8838ccbff282"
      },
      "source": [
        "# 라이브러리를 임포트\n",
        "\n",
        "import numpy as np\n",
        "from sklearn.ensemble import RandomForestClassifier\n",
        "from sklearn.datasets import load_iris\n",
        "\n",
        "# 붓꽃 데이터 적재\n",
        "iris = load_iris()\n",
        "\n",
        "# 특성 행렬 만들기\n",
        "features = iris.data\n",
        "\n",
        "# 타깃 벡터 만들기\n",
        "target = iris.target\n",
        "\n",
        "# 처음 40개 샘플 삭제\n",
        "features = features[40:,:]\n",
        "target = target[40:]\n",
        "\n",
        "# 클래스 0을 음성 클래스로 하는 이진 타깃 벡터를 만듭니다\n",
        "target = np.where ((target==0),0,1)\n",
        "\n",
        "target"
      ],
      "execution_count": null,
      "outputs": [
        {
          "output_type": "execute_result",
          "data": {
            "text/plain": [
              "array([0, 0, 0, 0, 0, 0, 0, 0, 0, 0, 1, 1, 1, 1, 1, 1, 1, 1, 1, 1, 1, 1,\n",
              "       1, 1, 1, 1, 1, 1, 1, 1, 1, 1, 1, 1, 1, 1, 1, 1, 1, 1, 1, 1, 1, 1,\n",
              "       1, 1, 1, 1, 1, 1, 1, 1, 1, 1, 1, 1, 1, 1, 1, 1, 1, 1, 1, 1, 1, 1,\n",
              "       1, 1, 1, 1, 1, 1, 1, 1, 1, 1, 1, 1, 1, 1, 1, 1, 1, 1, 1, 1, 1, 1,\n",
              "       1, 1, 1, 1, 1, 1, 1, 1, 1, 1, 1, 1, 1, 1, 1, 1, 1, 1, 1, 1, 1, 1])"
            ]
          },
          "metadata": {
            "tags": []
          },
          "execution_count": 24
        }
      ]
    },
    {
      "cell_type": "markdown",
      "metadata": {
        "id": "XM-yG-vA1cQc"
      },
      "source": [
        "*클래스 가중치 매개변수를 사용해 알고리즘이 불균형한 클래스 조정*"
      ]
    },
    {
      "cell_type": "code",
      "metadata": {
        "colab": {
          "base_uri": "https://localhost:8080/"
        },
        "id": "sEfVLn9Z0zQv",
        "outputId": "93853782-477f-494b-c649-b3f239d7de87"
      },
      "source": [
        "# 가중치 만듬\n",
        "weights = {0: .9, 1:0.1}\n",
        "\n",
        "# 가중치를 부여한 랜덤 포레스트 분류기 만듬\n",
        "RandomForestClassifier(class_weight=weights)\n"
      ],
      "execution_count": null,
      "outputs": [
        {
          "output_type": "execute_result",
          "data": {
            "text/plain": [
              "RandomForestClassifier(bootstrap=True, ccp_alpha=0.0,\n",
              "                       class_weight={0: 0.9, 1: 0.1}, criterion='gini',\n",
              "                       max_depth=None, max_features='auto', max_leaf_nodes=None,\n",
              "                       max_samples=None, min_impurity_decrease=0.0,\n",
              "                       min_impurity_split=None, min_samples_leaf=1,\n",
              "                       min_samples_split=2, min_weight_fraction_leaf=0.0,\n",
              "                       n_estimators=100, n_jobs=None, oob_score=False,\n",
              "                       random_state=None, verbose=0, warm_start=False)"
            ]
          },
          "metadata": {
            "tags": []
          },
          "execution_count": 25
        }
      ]
    },
    {
      "cell_type": "code",
      "metadata": {
        "id": "31qmU3TO1UOv",
        "colab": {
          "base_uri": "https://localhost:8080/"
        },
        "outputId": "f87bad2b-1cc1-46dc-b1ac-59507115017b"
      },
      "source": [
        "# 균형잡힌 클래스 가중치로 랜덤 포레스트 모델 훈련\n",
        "RandomForestClassifier(class_weight=\"balanced\")"
      ],
      "execution_count": null,
      "outputs": [
        {
          "output_type": "execute_result",
          "data": {
            "text/plain": [
              "RandomForestClassifier(bootstrap=True, ccp_alpha=0.0, class_weight='balanced',\n",
              "                       criterion='gini', max_depth=None, max_features='auto',\n",
              "                       max_leaf_nodes=None, max_samples=None,\n",
              "                       min_impurity_decrease=0.0, min_impurity_split=None,\n",
              "                       min_samples_leaf=1, min_samples_split=2,\n",
              "                       min_weight_fraction_leaf=0.0, n_estimators=100,\n",
              "                       n_jobs=None, oob_score=False, random_state=None,\n",
              "                       verbose=0, warm_start=False)"
            ]
          },
          "metadata": {
            "tags": []
          },
          "execution_count": 26
        }
      ]
    },
    {
      "cell_type": "markdown",
      "metadata": {
        "id": "OKpxYsTm1mmm"
      },
      "source": [
        "* 업샘플링 : 소수 클래스의 샘플을 늘린다\n",
        "* 다운샘플링 : 다수 클래스의 샘플을 줄인다"
      ]
    },
    {
      "cell_type": "markdown",
      "metadata": {
        "id": "bE3i3uRMi3Xo"
      },
      "source": [
        "다운샘플링"
      ]
    },
    {
      "cell_type": "code",
      "metadata": {
        "id": "160lCixsKRrZ",
        "colab": {
          "base_uri": "https://localhost:8080/"
        },
        "outputId": "08b3d80f-89a1-4355-d790-85fcd98a6abe"
      },
      "source": [
        "# 각 클래스의 샘플 인덱스 추출\n",
        "i_class0=np.where(target==0)[0]\n",
        "i_class1=np.where(target==1)[0]\n",
        "\n",
        "# 각 클래스의 샘플 개수\n",
        "n_class0 = len(i_class0)\n",
        "n_class1 = len(i_class1)\n",
        "\n",
        "# 클래스 0의 샘플만큼 클래스 1에서 중복을 허용하지 않고 랜덤하게 샘플 뽑기\n",
        "i_class1_downsampled = np.random.choice(i_class1, size=n_class0, replace=False)\n",
        "\n",
        "# 클래스 0의 타깃 벡터와 다운샘플링된 클래스 1의 타깃 벡터를 합침\n",
        "np.hstack((target[i_class0], target[i_class1_downsampled]))"
      ],
      "execution_count": null,
      "outputs": [
        {
          "output_type": "execute_result",
          "data": {
            "text/plain": [
              "array([0, 0, 0, 0, 0, 0, 0, 0, 0, 0, 1, 1, 1, 1, 1, 1, 1, 1, 1, 1])"
            ]
          },
          "metadata": {
            "tags": []
          },
          "execution_count": 27
        }
      ]
    },
    {
      "cell_type": "code",
      "metadata": {
        "colab": {
          "base_uri": "https://localhost:8080/"
        },
        "id": "vwGLtj0PijDF",
        "outputId": "086d29f0-b55c-4b21-f401-596f9b7fb7f2"
      },
      "source": [
        "# 클래스 0의 특성 행렬과 다운샘플링된 클래스 1의 특성 행렬을 합칩니다.\n",
        "np.vstack((features[i_class0,:], features[i_class1_downsampled, :]))[0:5]\n"
      ],
      "execution_count": null,
      "outputs": [
        {
          "output_type": "execute_result",
          "data": {
            "text/plain": [
              "array([[5. , 3.5, 1.3, 0.3],\n",
              "       [4.5, 2.3, 1.3, 0.3],\n",
              "       [4.4, 3.2, 1.3, 0.2],\n",
              "       [5. , 3.5, 1.6, 0.6],\n",
              "       [5.1, 3.8, 1.9, 0.4]])"
            ]
          },
          "metadata": {
            "tags": []
          },
          "execution_count": 28
        }
      ]
    },
    {
      "cell_type": "markdown",
      "metadata": {
        "id": "H37-P8Anizrq"
      },
      "source": [
        "업샘플링"
      ]
    },
    {
      "cell_type": "code",
      "metadata": {
        "colab": {
          "base_uri": "https://localhost:8080/"
        },
        "id": "DBEQCH7Ziu_o",
        "outputId": "a0680a0d-bb52-4dd9-c561-0a78ea116ebf"
      },
      "source": [
        "# 클래스 1의 샘플 개수만큼 클래스 0에서 중복을 허용하여 랜덤하게 샘플 선택\n",
        "i_class0_upsampled = np.random.choice(i_class0, size=n_class1, replace=True)\n",
        "\n",
        "# 클래스 0의 업샘플링된 타깃 벡터와 클래스 1의 타깃 벡터를 합침\n",
        "np.concatenate((target[i_class0_upsampled], target[i_class1]))"
      ],
      "execution_count": null,
      "outputs": [
        {
          "output_type": "execute_result",
          "data": {
            "text/plain": [
              "array([0, 0, 0, 0, 0, 0, 0, 0, 0, 0, 0, 0, 0, 0, 0, 0, 0, 0, 0, 0, 0, 0,\n",
              "       0, 0, 0, 0, 0, 0, 0, 0, 0, 0, 0, 0, 0, 0, 0, 0, 0, 0, 0, 0, 0, 0,\n",
              "       0, 0, 0, 0, 0, 0, 0, 0, 0, 0, 0, 0, 0, 0, 0, 0, 0, 0, 0, 0, 0, 0,\n",
              "       0, 0, 0, 0, 0, 0, 0, 0, 0, 0, 0, 0, 0, 0, 0, 0, 0, 0, 0, 0, 0, 0,\n",
              "       0, 0, 0, 0, 0, 0, 0, 0, 0, 0, 0, 0, 1, 1, 1, 1, 1, 1, 1, 1, 1, 1,\n",
              "       1, 1, 1, 1, 1, 1, 1, 1, 1, 1, 1, 1, 1, 1, 1, 1, 1, 1, 1, 1, 1, 1,\n",
              "       1, 1, 1, 1, 1, 1, 1, 1, 1, 1, 1, 1, 1, 1, 1, 1, 1, 1, 1, 1, 1, 1,\n",
              "       1, 1, 1, 1, 1, 1, 1, 1, 1, 1, 1, 1, 1, 1, 1, 1, 1, 1, 1, 1, 1, 1,\n",
              "       1, 1, 1, 1, 1, 1, 1, 1, 1, 1, 1, 1, 1, 1, 1, 1, 1, 1, 1, 1, 1, 1,\n",
              "       1, 1])"
            ]
          },
          "metadata": {
            "tags": []
          },
          "execution_count": 29
        }
      ]
    },
    {
      "cell_type": "code",
      "metadata": {
        "colab": {
          "base_uri": "https://localhost:8080/"
        },
        "id": "fPRGCBM1jLgK",
        "outputId": "30509c99-143f-4ce7-be91-af23adc639b9"
      },
      "source": [
        "# 클래스 0의 업샘플링된 특성 행렬과 클래스 1의 특성 행렬을 합침\n",
        "np.vstack((features[i_class0_upsampled,:], features[i_class1,:]))[0:5]"
      ],
      "execution_count": null,
      "outputs": [
        {
          "output_type": "execute_result",
          "data": {
            "text/plain": [
              "array([[5.1, 3.8, 1.6, 0.2],\n",
              "       [5. , 3.5, 1.3, 0.3],\n",
              "       [5.3, 3.7, 1.5, 0.2],\n",
              "       [4.6, 3.2, 1.4, 0.2],\n",
              "       [4.4, 3.2, 1.3, 0.2]])"
            ]
          },
          "metadata": {
            "tags": []
          },
          "execution_count": 31
        }
      ]
    }
  ]
}