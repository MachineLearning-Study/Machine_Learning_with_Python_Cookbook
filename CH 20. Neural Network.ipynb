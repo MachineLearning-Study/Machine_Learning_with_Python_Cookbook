{
 "cells": [
  {
   "cell_type": "code",
   "execution_count": 1,
   "metadata": {},
   "outputs": [],
   "source": [
    "from sklearn import preprocessing\n",
    "import numpy as np"
   ]
  },
  {
   "cell_type": "code",
   "execution_count": 2,
   "metadata": {},
   "outputs": [],
   "source": [
    "features = np.array([[-100.1, 3240.1],\n",
    "                     [-200.2, -234.1],\n",
    "                     [5000.5 , 150.1],\n",
    "                     [6000.6 , -125.1],\n",
    "                     [9000.9 , -673.1]])"
   ]
  },
  {
   "cell_type": "code",
   "execution_count": 3,
   "metadata": {},
   "outputs": [],
   "source": [
    "scaler = preprocessing.StandardScaler()"
   ]
  },
  {
   "cell_type": "code",
   "execution_count": 4,
   "metadata": {},
   "outputs": [],
   "source": [
    "features_standardized = scaler.fit_transform(features)"
   ]
  },
  {
   "cell_type": "code",
   "execution_count": 5,
   "metadata": {},
   "outputs": [
    {
     "data": {
      "text/plain": [
       "array([[-1.12541308,  1.96429418],\n",
       "       [-1.15329466, -0.50068741],\n",
       "       [ 0.29529406, -0.22809346],\n",
       "       [ 0.57385917, -0.42335076],\n",
       "       [ 1.40955451, -0.81216255]])"
      ]
     },
     "execution_count": 5,
     "metadata": {},
     "output_type": "execute_result"
    }
   ],
   "source": [
    "features_standardized"
   ]
  },
  {
   "cell_type": "code",
   "execution_count": 6,
   "metadata": {},
   "outputs": [
    {
     "data": {
      "text/plain": [
       "0"
      ]
     },
     "execution_count": 6,
     "metadata": {},
     "output_type": "execute_result"
    }
   ],
   "source": [
    "round(features_standardized[:,0].mean())"
   ]
  },
  {
   "cell_type": "code",
   "execution_count": 7,
   "metadata": {},
   "outputs": [
    {
     "data": {
      "text/plain": [
       "0.9999999999999999"
      ]
     },
     "execution_count": 7,
     "metadata": {},
     "output_type": "execute_result"
    }
   ],
   "source": [
    "features_standardized[:,0].std()"
   ]
  },
  {
   "cell_type": "code",
   "execution_count": null,
   "metadata": {},
   "outputs": [],
   "source": []
  },
  {
   "cell_type": "code",
   "execution_count": null,
   "metadata": {},
   "outputs": [],
   "source": []
  },
  {
   "cell_type": "code",
   "execution_count": 3,
   "metadata": {},
   "outputs": [],
   "source": [
    "from keras import models\n",
    "from keras import layers"
   ]
  },
  {
   "cell_type": "code",
   "execution_count": 4,
   "metadata": {},
   "outputs": [],
   "source": [
    "# 신경망 모델 만들기\n",
    "#해결에서 두개의 층 신경망 만들었음(층 개수에는 input layer는 포함않음)\n",
    "network = models.Sequential()"
   ]
  },
  {
   "cell_type": "code",
   "execution_count": 5,
   "metadata": {},
   "outputs": [],
   "source": [
    "#렐루 활성화 함수를 사용한 완전 연결층을 추가하기\n",
    "# 첫번째 은닉층은 units=16 activation=relu , 렐루 활성화 함수를 가진 16개의 유닛으로 구성\n",
    "# 케라스에서 네트워크의 첫번 째 은닉층은 input_shape 매개변수를 가져야함. ex)  (10,)은 첫번째층이 10개의 특성을 가진 샘플을 기대한단뜻\n",
    "network.add(layers.Dense(units=16,activation='relu',input_shape=(10,)))"
   ]
  },
  {
   "cell_type": "code",
   "execution_count": 6,
   "metadata": {},
   "outputs": [],
   "source": [
    "# 렐루 활성화 함수를 사용한 완전 연결층을 추가하기\n",
    "# 두번째 층은 input_shape이 없는것만 다르고 동일\n",
    "network.add(layers.Dense(units=16,activation='relu'))"
   ]
  },
  {
   "cell_type": "code",
   "execution_count": 7,
   "metadata": {},
   "outputs": [],
   "source": [
    "# 시그모이드 활성화 함수를 사용한 완전 연결층을 추가하기\n",
    "#이 네트워크는 이진 분류가 목적이므로 출력층은 시그모이드 활성화 함수를 사용한 유닛 하나만 포함 , 0 과 1\n",
    "network.add(layers.Dense(units=1, activation='sigmoid'))"
   ]
  },
  {
   "cell_type": "code",
   "execution_count": 8,
   "metadata": {},
   "outputs": [],
   "source": [
    "#신경망 모델 설정을 완료하기\n",
    "#모델을 훈련하기전 케라스에게 네트워크의 훈련방법알려줘야함, compile 메서드에서 최적화알고리즘(RMSProp), 손실함수(binary_crossentropy)\n",
    "network.compile(loss='binary_crossentropy', #바이너리 크로스엔트로피\n",
    "                optimizer='rmsprop', #옵티마이저\n",
    "                metrics=['accuracy']) #성능 지표 "
   ]
  },
  {
   "cell_type": "code",
   "execution_count": null,
   "metadata": {},
   "outputs": [],
   "source": []
  },
  {
   "cell_type": "markdown",
   "metadata": {},
   "source": [
    "### 신경망의 구조\n",
    "1) 여러개의 입력 받기\n",
    "\n",
    "2) 각 입력을 모델 파라미터와 곱하기\n",
    "\n",
    "3) 모든 입력에 대한 가중치를 곱하고 절편(일반적으로 0)을 더하기\n",
    "\n",
    "4) 활성화 함수를 적용하기\n",
    "\n",
    "5) 다음층에 있는 유닛으로 출력을 보내기"
   ]
  },
  {
   "cell_type": "markdown",
   "metadata": {},
   "source": [
    "#### 각 은닉층과 출력층에 대해 사용할 유닛 개수와 활성화 함수 정의하기\n",
    "** 층에 유닛을 많이 추가할수록 복잡한 패턴을 학습 가능하지만 overfitting문제와 시간이 오래걸림\n",
    "\n",
    "** 은닉층에 많이 사용되는 활성화 함수는 ReLU렐루 \n",
    "\n",
    "** max(0,z) z는 가중치가 적용된 입력과 절편의 합  (z가 0보다 크면 z를반환, 그렇지않으면 0) \n",
    "\n",
    "#### 네트워크에 사용될 여러 은닉층 정의하기\n",
    "#### 출력층의 활성화 함수를 정의하기\n",
    "** 이진분류  (시그모이드 함수)\n",
    "\n",
    "** 다중분류 (소프트맥스 활성화 함수와 k 개의 유닛)\n",
    "\n",
    "** 회귀 (하나의 유닛)\n",
    "#### 손실함수 정의하기\n",
    "** 이진분류 (이진 크로스엔트로피)\n",
    "\n",
    "** 다중분류 (범주형 크로스엔트로피)\n",
    "\n",
    "** 회귀 (평균 제곱 오차 mse)\n",
    "#### 옵티마이저 정의하기  ( 가장 작은 손실 함수 오차를 만드는 파라미터 값을 찾음)\n",
    "** 확률적 경사하강법 gradient descent\n",
    "\n",
    "** 모멘텀을 사용한 확률적 경사하강법\n",
    "\n",
    "** RMSProp \n",
    "\n",
    "** Adam \n",
    "#### accuray score같은 성능 지표 선택하기\n",
    "** 케라스는 신경망을 만드는 두가지 방법 존재\n",
    "\n",
    "** Sequential 모델 , 층을 쌓는 식으로 신경망만듦\n",
    "\n",
    "** 각 층은 밀집층(완전연결층) , 이전 층의 모든 유닛이 다음 층의 모든 유닛에 연결되어있음\n",
    "\n",
    "** 함수형 API , 연구원들이 사용\n",
    "\n"
   ]
  },
  {
   "cell_type": "code",
   "execution_count": null,
   "metadata": {},
   "outputs": [],
   "source": []
  },
  {
   "cell_type": "code",
   "execution_count": null,
   "metadata": {},
   "outputs": [],
   "source": []
  },
  {
   "cell_type": "markdown",
   "metadata": {},
   "source": [
    "## 이진 분류기 훈련하기  (fit메서드)"
   ]
  },
  {
   "cell_type": "code",
   "execution_count": 9,
   "metadata": {},
   "outputs": [],
   "source": [
    "import numpy as np\n",
    "from keras.datasets import imdb\n",
    "from keras.preprocessing.text import Tokenizer\n",
    "from keras import models\n",
    "from keras import layers"
   ]
  },
  {
   "cell_type": "code",
   "execution_count": 10,
   "metadata": {},
   "outputs": [],
   "source": [
    "np.random.seed(0)"
   ]
  },
  {
   "cell_type": "code",
   "execution_count": 11,
   "metadata": {},
   "outputs": [],
   "source": [
    "# 필요한 특성 개수 지정\n",
    "number_of_features=1000"
   ]
  },
  {
   "cell_type": "code",
   "execution_count": 12,
   "metadata": {},
   "outputs": [
    {
     "name": "stderr",
     "output_type": "stream",
     "text": [
      "<__array_function__ internals>:5: VisibleDeprecationWarning: Creating an ndarray from ragged nested sequences (which is a list-or-tuple of lists-or-tuples-or ndarrays with different lengths or shapes) is deprecated. If you meant to do this, you must specify 'dtype=object' when creating the ndarray\n",
      "C:\\Users\\samsung\\anaconda3\\lib\\site-packages\\tensorflow\\python\\keras\\datasets\\imdb.py:159: VisibleDeprecationWarning: Creating an ndarray from ragged nested sequences (which is a list-or-tuple of lists-or-tuples-or ndarrays with different lengths or shapes) is deprecated. If you meant to do this, you must specify 'dtype=object' when creating the ndarray\n",
      "  x_train, y_train = np.array(xs[:idx]), np.array(labels[:idx])\n",
      "C:\\Users\\samsung\\anaconda3\\lib\\site-packages\\tensorflow\\python\\keras\\datasets\\imdb.py:160: VisibleDeprecationWarning: Creating an ndarray from ragged nested sequences (which is a list-or-tuple of lists-or-tuples-or ndarrays with different lengths or shapes) is deprecated. If you meant to do this, you must specify 'dtype=object' when creating the ndarray\n",
      "  x_test, y_test = np.array(xs[idx:]), np.array(labels[idx:])\n"
     ]
    }
   ],
   "source": [
    "# 영화 리뷰 데이터에서 훈련 데이터와 타깃 벡터를 로드하기\n",
    "# 긍정과 부정으로 나뉘어있는 50000개의 영화 리뷰( 25000갠 train data, 25000갠 test data)\n",
    "(data_train, target_train), (data_test,target_test) = imdb.load_data(num_words=number_of_features)"
   ]
  },
  {
   "cell_type": "code",
   "execution_count": 13,
   "metadata": {
    "scrolled": true
   },
   "outputs": [
    {
     "data": {
      "text/plain": [
       "array([list([1, 14, 22, 16, 43, 530, 973, 2, 2, 65, 458, 2, 66, 2, 4, 173, 36, 256, 5, 25, 100, 43, 838, 112, 50, 670, 2, 9, 35, 480, 284, 5, 150, 4, 172, 112, 167, 2, 336, 385, 39, 4, 172, 2, 2, 17, 546, 38, 13, 447, 4, 192, 50, 16, 6, 147, 2, 19, 14, 22, 4, 2, 2, 469, 4, 22, 71, 87, 12, 16, 43, 530, 38, 76, 15, 13, 2, 4, 22, 17, 515, 17, 12, 16, 626, 18, 2, 5, 62, 386, 12, 8, 316, 8, 106, 5, 4, 2, 2, 16, 480, 66, 2, 33, 4, 130, 12, 16, 38, 619, 5, 25, 124, 51, 36, 135, 48, 25, 2, 33, 6, 22, 12, 215, 28, 77, 52, 5, 14, 407, 16, 82, 2, 8, 4, 107, 117, 2, 15, 256, 4, 2, 7, 2, 5, 723, 36, 71, 43, 530, 476, 26, 400, 317, 46, 7, 4, 2, 2, 13, 104, 88, 4, 381, 15, 297, 98, 32, 2, 56, 26, 141, 6, 194, 2, 18, 4, 226, 22, 21, 134, 476, 26, 480, 5, 144, 30, 2, 18, 51, 36, 28, 224, 92, 25, 104, 4, 226, 65, 16, 38, 2, 88, 12, 16, 283, 5, 16, 2, 113, 103, 32, 15, 16, 2, 19, 178, 32]),\n",
       "       list([1, 194, 2, 194, 2, 78, 228, 5, 6, 2, 2, 2, 134, 26, 4, 715, 8, 118, 2, 14, 394, 20, 13, 119, 954, 189, 102, 5, 207, 110, 2, 21, 14, 69, 188, 8, 30, 23, 7, 4, 249, 126, 93, 4, 114, 9, 2, 2, 5, 647, 4, 116, 9, 35, 2, 4, 229, 9, 340, 2, 4, 118, 9, 4, 130, 2, 19, 4, 2, 5, 89, 29, 952, 46, 37, 4, 455, 9, 45, 43, 38, 2, 2, 398, 4, 2, 26, 2, 5, 163, 11, 2, 2, 4, 2, 9, 194, 775, 7, 2, 2, 349, 2, 148, 605, 2, 2, 15, 123, 125, 68, 2, 2, 15, 349, 165, 2, 98, 5, 4, 228, 9, 43, 2, 2, 15, 299, 120, 5, 120, 174, 11, 220, 175, 136, 50, 9, 2, 228, 2, 5, 2, 656, 245, 2, 5, 4, 2, 131, 152, 491, 18, 2, 32, 2, 2, 14, 9, 6, 371, 78, 22, 625, 64, 2, 9, 8, 168, 145, 23, 4, 2, 15, 16, 4, 2, 5, 28, 6, 52, 154, 462, 33, 89, 78, 285, 16, 145, 95]),\n",
       "       list([1, 14, 47, 8, 30, 31, 7, 4, 249, 108, 7, 4, 2, 54, 61, 369, 13, 71, 149, 14, 22, 112, 4, 2, 311, 12, 16, 2, 33, 75, 43, 2, 296, 4, 86, 320, 35, 534, 19, 263, 2, 2, 4, 2, 33, 89, 78, 12, 66, 16, 4, 360, 7, 4, 58, 316, 334, 11, 4, 2, 43, 645, 662, 8, 257, 85, 2, 42, 2, 2, 83, 68, 2, 15, 36, 165, 2, 278, 36, 69, 2, 780, 8, 106, 14, 2, 2, 18, 6, 22, 12, 215, 28, 610, 40, 6, 87, 326, 23, 2, 21, 23, 22, 12, 272, 40, 57, 31, 11, 4, 22, 47, 6, 2, 51, 9, 170, 23, 595, 116, 595, 2, 13, 191, 79, 638, 89, 2, 14, 9, 8, 106, 607, 624, 35, 534, 6, 227, 7, 129, 113]),\n",
       "       ...,\n",
       "       list([1, 11, 6, 230, 245, 2, 9, 6, 2, 446, 2, 45, 2, 84, 2, 2, 21, 4, 912, 84, 2, 325, 725, 134, 2, 2, 84, 5, 36, 28, 57, 2, 21, 8, 140, 8, 703, 5, 2, 84, 56, 18, 2, 14, 9, 31, 7, 4, 2, 2, 2, 2, 2, 18, 6, 20, 207, 110, 563, 12, 8, 2, 2, 8, 97, 6, 20, 53, 2, 74, 4, 460, 364, 2, 29, 270, 11, 960, 108, 45, 40, 29, 2, 395, 11, 6, 2, 500, 7, 2, 89, 364, 70, 29, 140, 4, 64, 2, 11, 4, 2, 26, 178, 4, 529, 443, 2, 5, 27, 710, 117, 2, 2, 165, 47, 84, 37, 131, 818, 14, 595, 10, 10, 61, 2, 2, 10, 10, 288, 2, 2, 34, 2, 2, 4, 65, 496, 4, 231, 7, 790, 5, 6, 320, 234, 2, 234, 2, 2, 7, 496, 4, 139, 929, 2, 2, 2, 5, 2, 18, 4, 2, 2, 250, 11, 2, 2, 4, 2, 2, 747, 2, 372, 2, 2, 541, 2, 7, 4, 59, 2, 4, 2, 2]),\n",
       "       list([1, 2, 2, 69, 72, 2, 13, 610, 930, 8, 12, 582, 23, 5, 16, 484, 685, 54, 349, 11, 2, 2, 45, 58, 2, 13, 197, 12, 16, 43, 23, 2, 5, 62, 30, 145, 402, 11, 2, 51, 575, 32, 61, 369, 71, 66, 770, 12, 2, 75, 100, 2, 8, 4, 105, 37, 69, 147, 712, 75, 2, 44, 257, 390, 5, 69, 263, 514, 105, 50, 286, 2, 23, 4, 123, 13, 161, 40, 5, 421, 4, 116, 16, 897, 13, 2, 40, 319, 2, 112, 2, 11, 2, 121, 25, 70, 2, 4, 719, 2, 13, 18, 31, 62, 40, 8, 2, 4, 2, 7, 14, 123, 5, 942, 25, 8, 721, 12, 145, 5, 202, 12, 160, 580, 202, 12, 6, 52, 58, 2, 92, 401, 728, 12, 39, 14, 251, 8, 15, 251, 5, 2, 12, 38, 84, 80, 124, 12, 9, 23]),\n",
       "       list([1, 17, 6, 194, 337, 7, 4, 204, 22, 45, 254, 8, 106, 14, 123, 4, 2, 270, 2, 5, 2, 2, 732, 2, 101, 405, 39, 14, 2, 4, 2, 9, 115, 50, 305, 12, 47, 4, 168, 5, 235, 7, 38, 111, 699, 102, 7, 4, 2, 2, 9, 24, 6, 78, 2, 17, 2, 2, 21, 27, 2, 2, 5, 2, 2, 92, 2, 4, 2, 7, 4, 204, 42, 97, 90, 35, 221, 109, 29, 127, 27, 118, 8, 97, 12, 157, 21, 2, 2, 9, 6, 66, 78, 2, 4, 631, 2, 5, 2, 272, 191, 2, 6, 2, 8, 2, 2, 2, 544, 5, 383, 2, 848, 2, 2, 497, 2, 8, 2, 2, 2, 21, 60, 27, 239, 9, 43, 2, 209, 405, 10, 10, 12, 764, 40, 4, 248, 20, 12, 16, 5, 174, 2, 72, 7, 51, 6, 2, 22, 4, 204, 131, 9])],\n",
       "      dtype=object)"
      ]
     },
     "execution_count": 13,
     "metadata": {},
     "output_type": "execute_result"
    }
   ],
   "source": [
    "data_train"
   ]
  },
  {
   "cell_type": "markdown",
   "metadata": {},
   "source": [
    "#### 케라스에 포함된 IMDB 데이턴 텍스트를 정수의 리스트로 변환해놓은것.\n",
    "** Tokenizer 클래스의 num_words 매개변수 지정후 sequences_to_matrix 메서드 호출하면 num_words값보다 큰 정수는 모두 제외후 \n",
    "\n",
    "** mode 매개변수에서 지정한 방식에 맞추어 행렬 만듦\n",
    "\n",
    "** mode 매개변수가 binary 면 시퀀스에등장한 정수에 해당하는 위치에 1 저장, count면 시퀀스에 등장하는 횟수 저장, freq면 등장횟수를 시퀀스의 길이로 나눔"
   ]
  },
  {
   "cell_type": "code",
   "execution_count": 14,
   "metadata": {},
   "outputs": [],
   "source": [
    "# 영화 리뷰 데이터에서 원핫인코딩된 특성 행렬 변환\n",
    "# 가장 자주 등장하는 단어 1000개를 사용하여 리뷰 텍스트를 단어의 등장 여부를 나타내는 1000개의 이진특성 변환\n",
    "tokenizer= Tokenizer(num_words=number_of_features)\n",
    "features_train = tokenizer.sequences_to_matrix(data_train,mode='binary')\n",
    "features_Test = tokenizer.sequences_to_matrix(data_test,mode='binary')"
   ]
  },
  {
   "cell_type": "code",
   "execution_count": 15,
   "metadata": {},
   "outputs": [
    {
     "data": {
      "text/plain": [
       "array([[0., 1., 1., ..., 0., 0., 0.],\n",
       "       [0., 1., 1., ..., 0., 0., 0.],\n",
       "       [0., 1., 1., ..., 0., 0., 0.],\n",
       "       ...,\n",
       "       [0., 1., 1., ..., 0., 0., 0.],\n",
       "       [0., 1., 1., ..., 0., 0., 0.],\n",
       "       [0., 1., 1., ..., 0., 0., 0.]])"
      ]
     },
     "execution_count": 15,
     "metadata": {},
     "output_type": "execute_result"
    }
   ],
   "source": [
    "features_train"
   ]
  },
  {
   "cell_type": "code",
   "execution_count": 16,
   "metadata": {},
   "outputs": [
    {
     "data": {
      "text/plain": [
       "(25000, 1000)"
      ]
     },
     "execution_count": 16,
     "metadata": {},
     "output_type": "execute_result"
    }
   ],
   "source": [
    "features_train.shape"
   ]
  },
  {
   "cell_type": "code",
   "execution_count": 17,
   "metadata": {},
   "outputs": [],
   "source": [
    "# 신경망 모델 만들기\n",
    "# 1000개의 특성으로 만들어진 25000개의 샘플을 사용해서 영화 리뷰가 긍정인지 부정인지 판별\n",
    "network = models.Sequential()"
   ]
  },
  {
   "cell_type": "code",
   "execution_count": 18,
   "metadata": {},
   "outputs": [],
   "source": [
    "# 렐루 활성화 함수로 완전연결층 추가\n",
    "network.add(layers.Dense(units=16, activation='relu',input_shape=(number_of_features,)))"
   ]
  },
  {
   "cell_type": "code",
   "execution_count": 19,
   "metadata": {},
   "outputs": [],
   "source": [
    "# 렐루 활성화 함수\n",
    "network.add(layers.Dense(units=16, activation='relu'))"
   ]
  },
  {
   "cell_type": "code",
   "execution_count": 20,
   "metadata": {},
   "outputs": [],
   "source": [
    "#시그모이드 함수\n",
    "network.add(layers.Dense(units=1,activation='sigmoid'))"
   ]
  },
  {
   "cell_type": "code",
   "execution_count": 21,
   "metadata": {},
   "outputs": [],
   "source": [
    "#신경망 모델 설정하기\n",
    "network.compile(loss='binary_crossentropy',\n",
    "                optimizer='rmsprop',\n",
    "                metrics=['accuracy'])"
   ]
  },
  {
   "cell_type": "code",
   "execution_count": 25,
   "metadata": {},
   "outputs": [
    {
     "name": "stdout",
     "output_type": "stream",
     "text": [
      "Epoch 1/4\n",
      "250/250 - 0s - loss: 0.2296 - accuracy: 0.9073 - val_loss: 0.3605 - val_accuracy: 0.8540\n",
      "Epoch 2/4\n",
      "250/250 - 0s - loss: 0.2172 - accuracy: 0.9143 - val_loss: 0.3680 - val_accuracy: 0.8505\n",
      "Epoch 3/4\n",
      "250/250 - 0s - loss: 0.2040 - accuracy: 0.9202 - val_loss: 0.3861 - val_accuracy: 0.8492\n",
      "Epoch 4/4\n",
      "250/250 - 0s - loss: 0.1907 - accuracy: 0.9277 - val_loss: 0.4024 - val_accuracy: 0.8471\n"
     ]
    }
   ],
   "source": [
    "#신경망 훈련하기\n",
    "history= network.fit(features_train, #특성\n",
    "                     target_train, #타깃 벡터\n",
    "                     epochs=4, #에폭횟수\n",
    "                     verbose=2, #에폭과정 출력  (훈련과정동안 얼마나 많은 정보를 출력할지 결정, 0이면 출력않고 1은 진행막대, 2는 에폭마다 한줄씩 로그출력)\n",
    "                     batch_size=100, #배치의샘플 개수  (모델파라미터를 업데이트 하기전에 네트워크를 통과시킬 샘플개수)\n",
    "                     validation_data=(features_Test, target_test)) #테스트 데이터"
   ]
  },
  {
   "cell_type": "markdown",
   "metadata": {},
   "source": [
    "#### 사이컷런에서 fit 은 훈련된 모델을 반환하지만 keras 에선 에폭마다 손실값과 성능 수치가 담긴 history 객체 반환"
   ]
  },
  {
   "cell_type": "code",
   "execution_count": 26,
   "metadata": {},
   "outputs": [],
   "source": [
    "#신경망 모델 설정하기\n",
    "network.compile(loss='binary_crossentropy',\n",
    "                optimizer='rmsprop')"
   ]
  },
  {
   "cell_type": "code",
   "execution_count": 27,
   "metadata": {},
   "outputs": [
    {
     "name": "stdout",
     "output_type": "stream",
     "text": [
      "Epoch 1/3\n",
      "250/250 [==============================] - 1s 2ms/step - loss: 0.1740 - val_loss: 0.4232\n",
      "Epoch 2/3\n",
      "250/250 [==============================] - 0s 2ms/step - loss: 0.1605 - val_loss: 0.4483\n",
      "Epoch 3/3\n",
      "250/250 [==============================] - 0s 2ms/step - loss: 0.1443 - val_loss: 0.4653\n"
     ]
    }
   ],
   "source": [
    "history= network.fit(features_train, #특성\n",
    "                     target_train, #타깃 벡터\n",
    "                     epochs=3, #에폭횟수\n",
    "                     verbose=1, #에폭과정 출력  (훈련과정동안 얼마나 많은 정보를 출력할지 결정, 0이면 출력않고 1은 진행막대, 2는 에폭마다 한줄씩 로그출력)\n",
    "                     batch_size=100, #배치의샘플 개수  (모델파라미터를 업데이트 하기전에 네트워크를 통과시킬 샘플개수)\n",
    "                     validation_data=(features_Test, target_test)) #테스트 데이터"
   ]
  },
  {
   "cell_type": "code",
   "execution_count": 28,
   "metadata": {
    "scrolled": true
   },
   "outputs": [
    {
     "name": "stdout",
     "output_type": "stream",
     "text": [
      "782/782 [==============================] - 1s 844us/step - loss: 0.4653\n"
     ]
    },
    {
     "data": {
      "text/plain": [
       "0.4653257429599762"
      ]
     },
     "execution_count": 28,
     "metadata": {},
     "output_type": "execute_result"
    }
   ],
   "source": [
    "# evaluate는 케라스에서 모델의 성능을 평가하는 메서드, 손실값과 compile 메서드의 metric 매개변수에 지정한 성능 지표를 계산하여 출력)\n",
    "network.evaluate(features_Test, target_test)\n"
   ]
  },
  {
   "cell_type": "markdown",
   "metadata": {},
   "source": [
    "## 다중 분류기 훈련  (출력층에 소프트맥스 활성화 함수)"
   ]
  },
  {
   "cell_type": "code",
   "execution_count": 29,
   "metadata": {},
   "outputs": [],
   "source": [
    "import numpy as np\n",
    "from keras.datasets import reuters\n",
    "from keras.utils.np_utils import to_categorical\n",
    "from keras.preprocessing.text import Tokenizer\n",
    "from keras import models\n",
    "from keras import layers"
   ]
  },
  {
   "cell_type": "code",
   "execution_count": 30,
   "metadata": {},
   "outputs": [],
   "source": [
    "np.random.seed(0)"
   ]
  },
  {
   "cell_type": "code",
   "execution_count": 31,
   "metadata": {},
   "outputs": [],
   "source": [
    "number_of_features=5000"
   ]
  },
  {
   "cell_type": "code",
   "execution_count": 32,
   "metadata": {},
   "outputs": [
    {
     "name": "stderr",
     "output_type": "stream",
     "text": [
      "C:\\Users\\samsung\\anaconda3\\lib\\site-packages\\tensorflow\\python\\keras\\datasets\\reuters.py:148: VisibleDeprecationWarning: Creating an ndarray from ragged nested sequences (which is a list-or-tuple of lists-or-tuples-or ndarrays with different lengths or shapes) is deprecated. If you meant to do this, you must specify 'dtype=object' when creating the ndarray\n",
      "  x_train, y_train = np.array(xs[:idx]), np.array(labels[:idx])\n",
      "C:\\Users\\samsung\\anaconda3\\lib\\site-packages\\tensorflow\\python\\keras\\datasets\\reuters.py:149: VisibleDeprecationWarning: Creating an ndarray from ragged nested sequences (which is a list-or-tuple of lists-or-tuples-or ndarrays with different lengths or shapes) is deprecated. If you meant to do this, you must specify 'dtype=object' when creating the ndarray\n",
      "  x_test, y_test = np.array(xs[idx:]), np.array(labels[idx:])\n"
     ]
    }
   ],
   "source": [
    "# 11228개의 로이터 뉴스, 각뉴스는 46개의 토픽으로 분류\n",
    "# 뉴스를 어떤 단어의 등장 여부를 나타내는 5000개의 이진 특성으로 변환하여 특성데이터준비\n",
    "\n",
    "data = reuters.load_data(num_words=number_of_features)\n",
    "(data_train, target_vector_train), (data_test, target_vector_test)=data"
   ]
  },
  {
   "cell_type": "code",
   "execution_count": 33,
   "metadata": {},
   "outputs": [],
   "source": [
    "import pandas as pd"
   ]
  },
  {
   "cell_type": "code",
   "execution_count": 34,
   "metadata": {
    "scrolled": true
   },
   "outputs": [
    {
     "data": {
      "text/plain": [
       "3     813\n",
       "4     474\n",
       "19    133\n",
       "1     105\n",
       "16     99\n",
       "11     83\n",
       "20     70\n",
       "8      38\n",
       "13     37\n",
       "25     31\n",
       "10     30\n",
       "21     27\n",
       "9      25\n",
       "18     20\n",
       "2      20\n",
       "24     19\n",
       "6      14\n",
       "31     13\n",
       "12     13\n",
       "17     12\n",
       "23     12\n",
       "0      12\n",
       "30     12\n",
       "36     11\n",
       "28     10\n",
       "32     10\n",
       "40     10\n",
       "15      9\n",
       "26      8\n",
       "41      8\n",
       "22      7\n",
       "34      7\n",
       "35      6\n",
       "43      6\n",
       "44      5\n",
       "33      5\n",
       "5       5\n",
       "39      5\n",
       "27      4\n",
       "29      4\n",
       "7       3\n",
       "38      3\n",
       "42      3\n",
       "14      2\n",
       "37      2\n",
       "45      1\n",
       "dtype: int64"
      ]
     },
     "execution_count": 34,
     "metadata": {},
     "output_type": "execute_result"
    }
   ],
   "source": [
    "pd.DataFrame(target_vector_test).value_counts()"
   ]
  },
  {
   "cell_type": "code",
   "execution_count": 35,
   "metadata": {},
   "outputs": [],
   "source": [
    "#  원핫인코딩된 특성 행렬 변환\n",
    "# 샘플이 속한 46개의 클래스를 나타내는 타깃 행렬을 얻기위해 원핫인코딩으로 타깃 데이터 준비\n",
    "tokenizer= Tokenizer(num_words=number_of_features)\n",
    "features_train = tokenizer.sequences_to_matrix(data_train,mode='binary')\n",
    "features_test = tokenizer.sequences_to_matrix(data_test,mode='binary')"
   ]
  },
  {
   "cell_type": "code",
   "execution_count": 36,
   "metadata": {},
   "outputs": [],
   "source": [
    "# 타깃 벡터를 원핫 인코딩 하여 타깃 행렬 만들기\n",
    "target_train = to_categorical(target_vector_train)\n",
    "target_test = to_categorical(target_vector_test)"
   ]
  },
  {
   "cell_type": "code",
   "execution_count": 37,
   "metadata": {},
   "outputs": [],
   "source": [
    "# 신경망\n",
    "network = models.Sequential()"
   ]
  },
  {
   "cell_type": "code",
   "execution_count": 38,
   "metadata": {},
   "outputs": [],
   "source": [
    "# 렐루 \n",
    "network.add(layers.Dense(units=100,\n",
    "                         activation='relu',\n",
    "                         input_shape=(number_of_features,)))"
   ]
  },
  {
   "cell_type": "code",
   "execution_count": 39,
   "metadata": {},
   "outputs": [],
   "source": [
    "# 렐루 \n",
    "network.add(layers.Dense(units=100,\n",
    "                         activation='relu'))"
   ]
  },
  {
   "cell_type": "code",
   "execution_count": 40,
   "metadata": {},
   "outputs": [],
   "source": [
    "# 소프트맥스 활성화 함수\n",
    "network.add(layers.Dense(units=46, activation='softmax'))"
   ]
  },
  {
   "cell_type": "code",
   "execution_count": 41,
   "metadata": {},
   "outputs": [],
   "source": [
    "#신경망 모델 설정하기\n",
    "network.compile(loss='categorical_crossentropy',\n",
    "                optimizer='rmsprop',\n",
    "                metrics=['accuracy'])"
   ]
  },
  {
   "cell_type": "code",
   "execution_count": 42,
   "metadata": {},
   "outputs": [
    {
     "name": "stdout",
     "output_type": "stream",
     "text": [
      "Epoch 1/3\n",
      "90/90 - 1s - loss: 1.5420 - accuracy: 0.6592 - val_loss: 1.1196 - val_accuracy: 0.7449\n",
      "Epoch 2/3\n",
      "90/90 - 1s - loss: 0.8135 - accuracy: 0.8187 - val_loss: 0.9400 - val_accuracy: 0.7850\n",
      "Epoch 3/3\n",
      "90/90 - 1s - loss: 0.5250 - accuracy: 0.8852 - val_loss: 0.9376 - val_accuracy: 0.7854\n"
     ]
    }
   ],
   "source": [
    "history= network.fit(features_train, #특성\n",
    "                     target_train, #타깃 벡터\n",
    "                     epochs=3, #에폭횟수\n",
    "                     verbose=2, #에폭과정 출력  (훈련과정동안 얼마나 많은 정보를 출력할지 결정, 0이면 출력않고 1은 진행막대, 2는 에폭마다 한줄씩 로그출력)\n",
    "                     batch_size=100, #배치의샘플 개수  (모델파라미터를 업데이트 하기전에 네트워크를 통과시킬 샘플개수)\n",
    "                     validation_data=(features_test, target_test)) #테스트 데이터"
   ]
  },
  {
   "cell_type": "markdown",
   "metadata": {},
   "source": [
    "#### 차이점\n",
    "1. 은닉층의 유닛개수 늘림. 더 복잡한 관계표현\n",
    "\n",
    "2. 다중분류 문제이기 때문에 출력층에 소프트맥스 활성화 함수와 46개의 유닛(클래스마다 하나씩)을 사용. 소프트맥스 활성화 함수는 46개의 값(모두더하면 1)을 담은 배열을 반환. 46개의 값은 샘플이 46개 클래스마다 소속될 확률\n",
    "\n",
    "3. categorical cross entropy"
   ]
  },
  {
   "cell_type": "markdown",
   "metadata": {},
   "source": [
    "## 회귀 모델 훈련   (활성화함수 없이 출력 유닛 하나로 구성)"
   ]
  },
  {
   "cell_type": "code",
   "execution_count": 43,
   "metadata": {},
   "outputs": [],
   "source": [
    "import numpy as np\n",
    "from keras.preprocessing.text import Tokenizer\n",
    "from keras import models\n",
    "from keras import layers\n",
    "from sklearn.datasets import make_regression\n",
    "from sklearn.model_selection import train_test_split\n",
    "from sklearn import preprocessing"
   ]
  },
  {
   "cell_type": "code",
   "execution_count": 44,
   "metadata": {},
   "outputs": [],
   "source": [
    "np.random.seed(0)"
   ]
  },
  {
   "cell_type": "code",
   "execution_count": 45,
   "metadata": {},
   "outputs": [],
   "source": [
    "# 사이킷런의 make regression 함수로 만든 모의 데이터이기 때문에 표준화가 필요없었고 실전에선 표준화 필요\n",
    "features, target = make_regression(n_samples=10000,\n",
    "                                   n_features=3,\n",
    "                                   n_informative=3, \n",
    "                                   n_targets=1,\n",
    "                                   noise=0.0,\n",
    "                                   random_state=0)"
   ]
  },
  {
   "cell_type": "code",
   "execution_count": 46,
   "metadata": {},
   "outputs": [],
   "source": [
    "features_train, features_test, target_train, target_test = train_test_split(features, target, test_size=0.33, random_state=0)"
   ]
  },
  {
   "cell_type": "code",
   "execution_count": 49,
   "metadata": {},
   "outputs": [
    {
     "data": {
      "text/plain": [
       "(6700, 3)"
      ]
     },
     "execution_count": 49,
     "metadata": {},
     "output_type": "execute_result"
    }
   ],
   "source": [
    "features_train.shape"
   ]
  },
  {
   "cell_type": "code",
   "execution_count": 47,
   "metadata": {},
   "outputs": [],
   "source": [
    "network = models.Sequential()"
   ]
  },
  {
   "cell_type": "code",
   "execution_count": 50,
   "metadata": {},
   "outputs": [],
   "source": [
    "network.add(layers.Dense(units=32, activation='relu', input_shape=(features_train.shape[1],)))"
   ]
  },
  {
   "cell_type": "code",
   "execution_count": 51,
   "metadata": {},
   "outputs": [],
   "source": [
    "network.add(layers.Dense(units=32, activation='relu'))"
   ]
  },
  {
   "cell_type": "code",
   "execution_count": 52,
   "metadata": {},
   "outputs": [],
   "source": [
    "#활성화 함수가 없는 완전연결층 추가\n",
    "network.add(layers.Dense(units=1))"
   ]
  },
  {
   "cell_type": "code",
   "execution_count": 53,
   "metadata": {},
   "outputs": [],
   "source": [
    "network.compile(loss='mse', optimizer='RMSprop', metrics=['mse'])"
   ]
  },
  {
   "cell_type": "code",
   "execution_count": 54,
   "metadata": {},
   "outputs": [
    {
     "name": "stdout",
     "output_type": "stream",
     "text": [
      "Epoch 1/10\n",
      "67/67 - 1s - loss: 17211.6660 - mse: 17211.6660 - val_loss: 17512.6582 - val_mse: 17512.6582\n",
      "Epoch 2/10\n",
      "67/67 - 0s - loss: 16237.8564 - mse: 16237.8564 - val_loss: 16129.1260 - val_mse: 16129.1260\n",
      "Epoch 3/10\n",
      "67/67 - 0s - loss: 14524.1387 - mse: 14524.1387 - val_loss: 13929.9189 - val_mse: 13929.9189\n",
      "Epoch 4/10\n",
      "67/67 - 0s - loss: 11977.7012 - mse: 11977.7012 - val_loss: 10915.2080 - val_mse: 10915.2080\n",
      "Epoch 5/10\n",
      "67/67 - 0s - loss: 8789.4805 - mse: 8789.4805 - val_loss: 7378.3198 - val_mse: 7378.3198\n",
      "Epoch 6/10\n",
      "67/67 - 0s - loss: 5368.5098 - mse: 5368.5098 - val_loss: 3900.2200 - val_mse: 3900.2200\n",
      "Epoch 7/10\n",
      "67/67 - 0s - loss: 2366.8240 - mse: 2366.8242 - val_loss: 1328.9159 - val_mse: 1328.9159\n",
      "Epoch 8/10\n",
      "67/67 - 0s - loss: 679.4932 - mse: 679.4932 - val_loss: 349.3517 - val_mse: 349.3517\n",
      "Epoch 9/10\n",
      "67/67 - 0s - loss: 279.9552 - mse: 279.9552 - val_loss: 246.8519 - val_mse: 246.8519\n",
      "Epoch 10/10\n",
      "67/67 - 0s - loss: 229.1612 - mse: 229.1612 - val_loss: 206.6425 - val_mse: 206.6425\n"
     ]
    }
   ],
   "source": [
    "history= network.fit(features_train, #특성\n",
    "                     target_train, #타깃 벡터\n",
    "                     epochs=10, #에폭횟수\n",
    "                     verbose=2, #에폭과정 출력  (훈련과정동안 얼마나 많은 정보를 출력할지 결정, 0이면 출력않고 1은 진행막대, 2는 에폭마다 한줄씩 로그출력)\n",
    "                     batch_size=100, #배치의샘플 개수  (모델파라미터를 업데이트 하기전에 네트워크를 통과시킬 샘플개수)\n",
    "                     validation_data=(features_test, target_test)) #테스트 데이터"
   ]
  },
  {
   "cell_type": "markdown",
   "metadata": {},
   "source": [
    "##  예측하기  ( 피드포워드 신경망을 만들고 predict 메서드사용)"
   ]
  },
  {
   "cell_type": "code",
   "execution_count": 55,
   "metadata": {},
   "outputs": [],
   "source": [
    "import numpy as np\n",
    "from keras.datasets import imdb\n",
    "from keras.preprocessing.text import Tokenizer\n",
    "from keras import models\n",
    "from keras import layers"
   ]
  },
  {
   "cell_type": "code",
   "execution_count": 56,
   "metadata": {},
   "outputs": [],
   "source": [
    "np.random.seed(0)"
   ]
  },
  {
   "cell_type": "code",
   "execution_count": 57,
   "metadata": {},
   "outputs": [],
   "source": [
    "number_of_features=10000"
   ]
  },
  {
   "cell_type": "code",
   "execution_count": 58,
   "metadata": {},
   "outputs": [],
   "source": [
    "# 영화 리뷰 데이터에서 훈련 데이터와 타깃 벡터를 로드하기\n",
    "# 긍정과 부정으로 나뉘어있는 50000개의 영화 리뷰( 25000갠 train data, 25000갠 test data)\n",
    "(data_train, target_train), (data_test,target_test) = imdb.load_data(num_words=number_of_features)"
   ]
  },
  {
   "cell_type": "code",
   "execution_count": 59,
   "metadata": {},
   "outputs": [],
   "source": [
    "# 영화 리뷰 데이터에서 원핫인코딩된 특성 행렬 변환\n",
    "# 가장 자주 등장하는 단어 1000개를 사용하여 리뷰 텍스트를 단어의 등장 여부를 나타내는 1000개의 이진특성 변환\n",
    "tokenizer= Tokenizer(num_words=number_of_features)\n",
    "features_train = tokenizer.sequences_to_matrix(data_train,mode='binary')\n",
    "features_Test = tokenizer.sequences_to_matrix(data_test,mode='binary')"
   ]
  },
  {
   "cell_type": "code",
   "execution_count": 60,
   "metadata": {},
   "outputs": [],
   "source": [
    "# 신경망 모델 만들기\n",
    "# 1000개의 특성으로 만들어진 25000개의 샘플을 사용해서 영화 리뷰가 긍정인지 부정인지 판별\n",
    "network = models.Sequential()"
   ]
  },
  {
   "cell_type": "code",
   "execution_count": 61,
   "metadata": {},
   "outputs": [],
   "source": [
    "# 렐루 활성화 함수로 완전연결층 추가\n",
    "network.add(layers.Dense(units=16, activation='relu',input_shape=(number_of_features,)))"
   ]
  },
  {
   "cell_type": "code",
   "execution_count": 62,
   "metadata": {},
   "outputs": [],
   "source": [
    "# 렐루 활성화 함수\n",
    "network.add(layers.Dense(units=16, activation='relu'))"
   ]
  },
  {
   "cell_type": "code",
   "execution_count": 63,
   "metadata": {},
   "outputs": [],
   "source": [
    "#시그모이드 함수\n",
    "network.add(layers.Dense(units=1,activation='sigmoid'))"
   ]
  },
  {
   "cell_type": "code",
   "execution_count": 64,
   "metadata": {},
   "outputs": [],
   "source": [
    "#신경망 모델 설정하기\n",
    "network.compile(loss='binary_crossentropy',\n",
    "                optimizer='rmsprop',\n",
    "                metrics=['accuracy'])"
   ]
  },
  {
   "cell_type": "code",
   "execution_count": 65,
   "metadata": {},
   "outputs": [
    {
     "name": "stdout",
     "output_type": "stream",
     "text": [
      "Epoch 1/3\n",
      "250/250 [==============================] - 3s 8ms/step - loss: 0.4494 - accuracy: 0.8005 - val_loss: 0.2782 - val_accuracy: 0.8894\n",
      "Epoch 2/3\n",
      "250/250 [==============================] - 1s 5ms/step - loss: 0.1949 - accuracy: 0.9272 - val_loss: 0.2942 - val_accuracy: 0.8839\n",
      "Epoch 3/3\n",
      "250/250 [==============================] - 1s 5ms/step - loss: 0.1592 - accuracy: 0.9422 - val_loss: 0.3306 - val_accuracy: 0.8758\n"
     ]
    }
   ],
   "source": [
    "#신경망 훈련하기\n",
    "history= network.fit(features_train, #특성\n",
    "                     target_train, #타깃 벡터\n",
    "                     epochs=3, #에폭횟수\n",
    "                     verbose=1, #에폭과정 출력  (훈련과정동안 얼마나 많은 정보를 출력할지 결정, 0이면 출력않고 1은 진행막대, 2는 에폭마다 한줄씩 로그출력)\n",
    "                     batch_size=100, #배치의샘플 개수  (모델파라미터를 업데이트 하기전에 네트워크를 통과시킬 샘플개수)\n",
    "                     validation_data=(features_Test, target_test)) #테스트 데이터"
   ]
  },
  {
   "cell_type": "code",
   "execution_count": 66,
   "metadata": {},
   "outputs": [],
   "source": [
    "predicted_target = network.predict(features_Test)"
   ]
  },
  {
   "cell_type": "code",
   "execution_count": 67,
   "metadata": {},
   "outputs": [
    {
     "data": {
      "text/plain": [
       "array([[0.06581053],\n",
       "       [0.9996835 ],\n",
       "       [0.9066007 ],\n",
       "       ...,\n",
       "       [0.08626434],\n",
       "       [0.02872851],\n",
       "       [0.51490813]], dtype=float32)"
      ]
     },
     "execution_count": 67,
     "metadata": {},
     "output_type": "execute_result"
    }
   ],
   "source": [
    "#1에가까우면 1 , 0에 가까우면 0\n",
    "predicted_target"
   ]
  },
  {
   "cell_type": "code",
   "execution_count": 1,
   "metadata": {},
   "outputs": [],
   "source": [
    "import numpy as np\n",
    "from keras import models\n",
    "from keras import layers\n",
    "import matplotlib.pyplot as plt\n",
    "import keras.datasets"
   ]
  },
  {
   "cell_type": "code",
   "execution_count": 164,
   "metadata": {},
   "outputs": [],
   "source": [
    "from keras.callbacks import EarlyStopping, ModelCheckpoint\n",
    "from keras.wrappers.scikit_learn import KerasClassifier\n",
    "from sklearn.model_selection import cross_val_score, GridSearchCV\n",
    "from sklearn.datasets import make_classification"
   ]
  },
  {
   "cell_type": "code",
   "execution_count": 138,
   "metadata": {},
   "outputs": [],
   "source": [
    "import pandas as pd"
   ]
  },
  {
   "cell_type": "code",
   "execution_count": 2,
   "metadata": {},
   "outputs": [],
   "source": [
    "fashion_mnist = keras.datasets.fashion_mnist"
   ]
  },
  {
   "cell_type": "code",
   "execution_count": 3,
   "metadata": {},
   "outputs": [],
   "source": [
    "(train_images, train_labels), (test_images, test_labels) = fashion_mnist.load_data()"
   ]
  },
  {
   "cell_type": "code",
   "execution_count": 4,
   "metadata": {},
   "outputs": [],
   "source": [
    "class_names = ['T-shirt/top', 'Trouser', 'Pullover', 'Dress', 'Coat',\n",
    "               'Sandal', 'Shirt', 'Sneaker', 'Bag', 'Ankle boot']"
   ]
  },
  {
   "cell_type": "code",
   "execution_count": 5,
   "metadata": {},
   "outputs": [
    {
     "data": {
      "text/plain": [
       "(60000, 28, 28)"
      ]
     },
     "execution_count": 5,
     "metadata": {},
     "output_type": "execute_result"
    }
   ],
   "source": [
    "train_images.shape"
   ]
  },
  {
   "cell_type": "markdown",
   "metadata": {},
   "source": [
    "#### 6만개의 데이터 28 x 28 낮은 해상도 "
   ]
  },
  {
   "cell_type": "code",
   "execution_count": 6,
   "metadata": {},
   "outputs": [
    {
     "data": {
      "text/plain": [
       "60000"
      ]
     },
     "execution_count": 6,
     "metadata": {},
     "output_type": "execute_result"
    }
   ],
   "source": [
    "len(train_labels)"
   ]
  },
  {
   "cell_type": "code",
   "execution_count": 7,
   "metadata": {},
   "outputs": [
    {
     "data": {
      "text/plain": [
       "array([9, 0, 0, ..., 3, 0, 5], dtype=uint8)"
      ]
     },
     "execution_count": 7,
     "metadata": {},
     "output_type": "execute_result"
    }
   ],
   "source": [
    "train_labels"
   ]
  },
  {
   "cell_type": "code",
   "execution_count": 8,
   "metadata": {},
   "outputs": [
    {
     "data": {
      "text/plain": [
       "10000"
      ]
     },
     "execution_count": 8,
     "metadata": {},
     "output_type": "execute_result"
    }
   ],
   "source": [
    "len(test_images)"
   ]
  },
  {
   "cell_type": "markdown",
   "metadata": {},
   "source": [
    "#### 이미지 데이터 전처리"
   ]
  },
  {
   "cell_type": "code",
   "execution_count": 9,
   "metadata": {
    "scrolled": true
   },
   "outputs": [
    {
     "data": {
      "image/png": "[encoded data removed]",
      "text/plain": [
       "<Figure size 432x288 with 2 Axes>"
      ]
     },
     "metadata": {
      "needs_background": "light"
     },
     "output_type": "display_data"
    }
   ],
   "source": [
    "#데이터는 0~ 255로 표현됨\n",
    "plt.figure()\n",
    "plt.imshow(train_images[0])\n",
    "plt.colorbar()\n",
    "plt.grid(False)\n",
    "plt.show()"
   ]
  },
  {
   "cell_type": "code",
   "execution_count": 10,
   "metadata": {},
   "outputs": [],
   "source": [
    "train_images = train_images / 255.0\n",
    "test_images = test_images / 255.0"
   ]
  },
  {
   "cell_type": "code",
   "execution_count": 11,
   "metadata": {},
   "outputs": [
    {
     "data": {
      "image/png": "[encoded data removed]",
      "text/plain": [
       "<Figure size 720x720 with 25 Axes>"
      ]
     },
     "metadata": {},
     "output_type": "display_data"
    }
   ],
   "source": [
    "plt.figure(figsize= (10,10))\n",
    "for i in range(25):\n",
    "    plt.subplot(5, 5, i+1)\n",
    "    plt.xticks([])\n",
    "    plt.yticks([])\n",
    "    plt.grid(False)\n",
    "    plt.imshow(train_images[i], cmap = plt.cm.binary)\n",
    "    plt.xlabel(class_names[train_labels[i]])\n",
    "plt.show()"
   ]
  },
  {
   "cell_type": "markdown",
   "metadata": {},
   "source": [
    "#### 학습하기 "
   ]
  },
  {
   "cell_type": "code",
   "execution_count": 119,
   "metadata": {},
   "outputs": [],
   "source": [
    "model = keras.Sequential([\n",
    "    keras.layers.Flatten(input_shape=(28, 28)),   #28*28 = 784 변환 \n",
    "    keras.layers.Dense(256, activation = 'relu'),  #128 개의 노드\n",
    "    keras.layers.Dense(256, activation = 'relu'),\n",
    "    keras.layers.Dense(256, activation = 'relu'),  #128 개의 노드  #2개로 했을 때와 차이 비교하기 \n",
    "    keras.layers.Dense(10, activation = 'softmax') #10개의 소프트맥스(확률로 계산, 전체의 합 1)\n",
    "])\n"
   ]
  },
  {
   "cell_type": "code",
   "execution_count": 120,
   "metadata": {},
   "outputs": [],
   "source": [
    "model.compile(optimizer = 'adam',\n",
    "             loss = 'sparse_categorical_crossentropy', \n",
    "             metrics = ['accuracy'])"
   ]
  },
  {
   "cell_type": "code",
   "execution_count": 121,
   "metadata": {},
   "outputs": [
    {
     "name": "stdout",
     "output_type": "stream",
     "text": [
      "Epoch 1/5\n",
      "60/60 [==============================] - 13s 219ms/step - loss: 0.7069 - accuracy: 0.7372 - val_loss: 0.4753 - val_accuracy: 0.8305\n",
      "Epoch 2/5\n",
      "60/60 [==============================] - 10s 162ms/step - loss: 0.3954 - accuracy: 0.8554 - val_loss: 0.3939 - val_accuracy: 0.8570\n",
      "Epoch 3/5\n",
      "60/60 [==============================] - 10s 166ms/step - loss: 0.3345 - accuracy: 0.8772 - val_loss: 0.4260 - val_accuracy: 0.8511\n",
      "Epoch 4/5\n",
      "60/60 [==============================] - 10s 166ms/step - loss: 0.3183 - accuracy: 0.8826 - val_loss: 0.3596 - val_accuracy: 0.8691\n",
      "Epoch 5/5\n",
      "60/60 [==============================] - 10s 175ms/step - loss: 0.2847 - accuracy: 0.8942 - val_loss: 0.3429 - val_accuracy: 0.8765\n"
     ]
    }
   ],
   "source": [
    "history = model.fit(train_images, train_labels, batch_size = 1000, epochs= 5, validation_data = (test_images, test_labels))"
   ]
  },
  {
   "cell_type": "markdown",
   "metadata": {},
   "source": [
    "평가하기"
   ]
  },
  {
   "cell_type": "code",
   "execution_count": 122,
   "metadata": {},
   "outputs": [
    {
     "name": "stdout",
     "output_type": "stream",
     "text": [
      "313/313 - 3s - loss: 0.3429 - accuracy: 0.8765\n"
     ]
    }
   ],
   "source": [
    "#test_loss = validation\n",
    "test_loss, accuracy = model.evaluate(test_images, test_labels, verbose=2)"
   ]
  },
  {
   "cell_type": "code",
   "execution_count": 123,
   "metadata": {},
   "outputs": [],
   "source": [
    "prediction1 = model.predict(test_images)"
   ]
  },
  {
   "cell_type": "code",
   "execution_count": 124,
   "metadata": {},
   "outputs": [
    {
     "data": {
      "text/plain": [
       "array([2.6237969e-06, 2.8959963e-07, 2.4188190e-05, 1.5447169e-07,\n",
       "       3.9467082e-08, 9.9992681e-01, 8.0820911e-07, 4.0943247e-05,\n",
       "       3.5658736e-06, 5.6562919e-07], dtype=float32)"
      ]
     },
     "execution_count": 124,
     "metadata": {},
     "output_type": "execute_result"
    }
   ],
   "source": [
    "prediction1[8] #앞의 숫자는 신뢰도 "
   ]
  },
  {
   "cell_type": "markdown",
   "metadata": {},
   "source": [
    "## 20.7 훈련기록 시각화하기"
   ]
  },
  {
   "cell_type": "markdown",
   "metadata": {},
   "source": [
    "### training loss, test loss(validation loss)"
   ]
  },
  {
   "cell_type": "markdown",
   "metadata": {},
   "source": [
    "training_loss = history.history[\"loss\"]"
   ]
  },
  {
   "cell_type": "code",
   "execution_count": 125,
   "metadata": {},
   "outputs": [],
   "source": [
    "train_loss = history.history[\"loss\"]\n",
    "test_loss = history.history[\"val_loss\"]"
   ]
  },
  {
   "cell_type": "code",
   "execution_count": 126,
   "metadata": {},
   "outputs": [],
   "source": [
    "epoch_count = range(1, len(train_loss) +1 )"
   ]
  },
  {
   "cell_type": "code",
   "execution_count": 127,
   "metadata": {},
   "outputs": [
    {
     "data": {
      "image/png": "[encoded data removed]",
      "text/plain": [
       "<Figure size 432x288 with 1 Axes>"
      ]
     },
     "metadata": {
      "needs_background": "light"
     },
     "output_type": "display_data"
    }
   ],
   "source": [
    "plt.plot(epoch_count, train_loss, \"r--\")\n",
    "plt.plot(epoch_count, test_loss, \"b-\")\n",
    "plt.legend([\"Training Loss\", \"Test Loss\"])\n",
    "plt.xlabel(\"Epoch\")\n",
    "plt.ylabel(\"Loss\")\n",
    "plt.show()"
   ]
  },
  {
   "cell_type": "markdown",
   "metadata": {},
   "source": [
    "### 정확도"
   ]
  },
  {
   "cell_type": "code",
   "execution_count": 128,
   "metadata": {},
   "outputs": [],
   "source": [
    "training_accuracy = history.history[\"accuracy\"]\n",
    "test_accuracy = history.history[\"val_accuracy\"]"
   ]
  },
  {
   "cell_type": "code",
   "execution_count": 129,
   "metadata": {},
   "outputs": [
    {
     "data": {
      "image/png": "[encoded data removed]",
      "text/plain": [
       "<Figure size 432x288 with 1 Axes>"
      ]
     },
     "metadata": {
      "needs_background": "light"
     },
     "output_type": "display_data"
    }
   ],
   "source": [
    "plt.plot(epoch_count, training_accuracy, \"r--\")\n",
    "plt.plot(epoch_count, test_accuracy, \"b-\")\n",
    "\n",
    "plt.legend([\"Training Accuracy\", \"Test Accuracy\"])\n",
    "plt.xlabel(\"Epoch\")\n",
    "plt.ylabel(\"Accuracy Score\")\n",
    "plt.show();"
   ]
  },
  {
   "cell_type": "markdown",
   "metadata": {},
   "source": [
    "## 20.8 가중치 규제로 과대적합 줄이기 (1/3)"
   ]
  },
  {
   "cell_type": "code",
   "execution_count": 130,
   "metadata": {},
   "outputs": [],
   "source": [
    "model.add(layers.Dense(units = 256, activation = \"relu\", kernel_regularizer='l1_l2', input_shape = (len(train_loss),)))"
   ]
  },
  {
   "cell_type": "markdown",
   "metadata": {},
   "source": [
    "## 20.9 조기종료로 과대적합 줄이기 (2/3)"
   ]
  },
  {
   "cell_type": "code",
   "execution_count": 131,
   "metadata": {},
   "outputs": [],
   "source": [
    "# 학습(fit 이전에)\n",
    "calbacks = [EarlyStopping(monitor = \"val_loss\", patience = 2),\n",
    "           ModelCheckpoint(filepath = \"best_model.h5\",\n",
    "                          monitor = \"vak_loss\",\n",
    "                          save_best_only = True)]\n",
    "#callbacks 함수 넣어주기 \n",
    "history = model.fit(train_images, train_labels, batch_size = 1000, epochs= 5, callbacks = callbacks, \n",
    "                    validation_data = (test_images, test_labels))"
   ]
  },
  {
   "cell_type": "markdown",
   "metadata": {},
   "source": [
    "## 20.10 드롭아웃으로 과대적합 줄이기 (3/3)"
   ]
  },
  {
   "cell_type": "code",
   "execution_count": 132,
   "metadata": {},
   "outputs": [],
   "source": [
    "# sigmoid 이전에 \n",
    "model.add(layers.Dropout(0.5))"
   ]
  },
  {
   "cell_type": "markdown",
   "metadata": {},
   "source": [
    "## 20.11 모델 훈련 진행 과정을 저장하기 "
   ]
  },
  {
   "cell_type": "code",
   "execution_count": 134,
   "metadata": {},
   "outputs": [],
   "source": [
    "#에폭이 하나 끝날 때마다 저장하기\n",
    "#콜백 함수를 설정하여 설정 \n",
    "checkpoint = [ModelCheckpoint(filepath = \"models.hdf5\")]\n",
    "\n",
    "history = model.fit(train_images, train_labels, batch_size = 1000, epochs= 5, \n",
    "                    callbacks = checkpoint, \n",
    "                    validation_data = (test_images, test_labels))"
   ]
  },
  {
   "cell_type": "markdown",
   "metadata": {},
   "source": [
    "## 20.12 신경망을 K-폴드 교차검증하기 "
   ]
  },
  {
   "cell_type": "markdown",
   "metadata": {},
   "source": [
    "### 시간이 많이 걸리는 모델일 경우 이를 권장하지 않음. 하루가 걸리는 모델을 10 폴드 교차검증하게 되면 10일이 걸림. "
   ]
  },
  {
   "cell_type": "code",
   "execution_count": 151,
   "metadata": {},
   "outputs": [],
   "source": [
    "features= train_images\n",
    "target = train_labels"
   ]
  },
  {
   "cell_type": "code",
   "execution_count": 152,
   "metadata": {},
   "outputs": [
    {
     "data": {
      "text/plain": [
       "60000"
      ]
     },
     "execution_count": 152,
     "metadata": {},
     "output_type": "execute_result"
    }
   ],
   "source": [
    "len(target)"
   ]
  },
  {
   "cell_type": "code",
   "execution_count": 154,
   "metadata": {},
   "outputs": [],
   "source": [
    "def create_network():\n",
    "    model = keras.Sequential([\n",
    "    keras.layers.Flatten(input_shape=(28, 28)),   #28*28 = 784 변환 \n",
    "    keras.layers.Dense(256, activation = 'relu'),  #128 개의 노드\n",
    "    keras.layers.Dense(256, activation = 'relu'),\n",
    "    keras.layers.Dense(256, activation = 'relu'),  #128 개의 노드  #2개로 했을 때와 차이 비교하기 \n",
    "    keras.layers.Dense(10, activation = 'softmax') #10개의 소프트맥스(확률로 계산, 전체의 합 1)\n",
    "])\n",
    "    model.compile(optimizer = 'adam',\n",
    "             loss = 'sparse_categorical_crossentropy', \n",
    "             metrics = ['accuracy'])\n",
    "    return model "
   ]
  },
  {
   "cell_type": "code",
   "execution_count": 155,
   "metadata": {},
   "outputs": [],
   "source": [
    "neural_network = KerasClassifier(build_fn = create_network,\n",
    "                                epochs = 10,\n",
    "                                batch_size = 100,\n",
    "                                verbose = 0)"
   ]
  },
  {
   "cell_type": "code",
   "execution_count": 156,
   "metadata": {},
   "outputs": [
    {
     "data": {
      "text/plain": [
       "array([0.88499999, 0.89055002, 0.89240003])"
      ]
     },
     "execution_count": 156,
     "metadata": {},
     "output_type": "execute_result"
    }
   ],
   "source": [
    "cross_val_score(neural_network,features, target, cv = 3)"
   ]
  },
  {
   "cell_type": "markdown",
   "metadata": {},
   "source": [
    "## 20.13 신경망 튜닝하기 "
   ]
  },
  {
   "cell_type": "code",
   "execution_count": 157,
   "metadata": {},
   "outputs": [],
   "source": [
    "# GridSearchCV 모델 사용 "
   ]
  },
  {
   "cell_type": "code",
   "execution_count": 181,
   "metadata": {},
   "outputs": [],
   "source": [
    "def create_network(optimizer = \"rmsprop\"):\n",
    "    model = keras.Sequential([\n",
    "    keras.layers.Flatten(input_shape=(28, 28)),   #28*28 = 784 변환 \n",
    "    keras.layers.Dense(256, activation = 'relu'),  #128 개의 노드\n",
    "    keras.layers.Dense(256, activation = 'relu'),\n",
    "    keras.layers.Dense(256, activation = 'relu'),  #128 개의 노드  #2개로 했을 때와 차이 비교하기 \n",
    "    keras.layers.Dense(10, activation = 'softmax') #10개의 소프트맥스(확률로 계산, 전체의 합 1)\n",
    "])\n",
    "    model.compile(optimizer = 'adam',\n",
    "             loss = 'sparse_categorical_crossentropy', \n",
    "             metrics = ['accuracy'])\n",
    "    return model "
   ]
  },
  {
   "cell_type": "code",
   "execution_count": 182,
   "metadata": {},
   "outputs": [],
   "source": [
    "neural_network = KerasClassifier(build_fn = create_network, verbose = 0)"
   ]
  },
  {
   "cell_type": "code",
   "execution_count": 183,
   "metadata": {},
   "outputs": [],
   "source": [
    "epochs = [5, 10]\n",
    "batches = [5, 10, 100]\n",
    "optimizers = [\"rmsprop\", \"adam\"]"
   ]
  },
  {
   "cell_type": "code",
   "execution_count": 184,
   "metadata": {},
   "outputs": [],
   "source": [
    "hyperparameters = dict(optimizer = optimizers, epochs = epochs, batch_size = batches)"
   ]
  },
  {
   "cell_type": "code",
   "execution_count": 185,
   "metadata": {},
   "outputs": [],
   "source": [
    "grid = GridSearchCV(estimator = neural_network, param_grid = hyperparameters)"
   ]
  },
  {
   "cell_type": "code",
   "execution_count": null,
   "metadata": {},
   "outputs": [],
   "source": [
    "grid_result = grid.fit(features, target)"
   ]
  },
  {
   "cell_type": "code",
   "execution_count": null,
   "metadata": {},
   "outputs": [],
   "source": []
  },
  {
   "cell_type": "markdown",
   "metadata": {},
   "source": [
    "# Cats vs Dogs\n",
    "\n",
    "## This notebook is just an extension of what I've learned for the MNIST dataset."
   ]
  },
  {
   "cell_type": "code",
   "execution_count": null,
   "metadata": {
    "_cell_guid": "b1076dfc-b9ad-4769-8c92-a6c4dae69d19",
    "_uuid": "8f2839f25d086af736a60e9eeb907d3b93b6e0e5"
   },
   "outputs": [],
   "source": [
    "# This Python 3 environment comes with many helpful analytics libraries installed\n",
    "# It is defined by the kaggle/python Docker image: https://github.com/kaggle/docker-python\n",
    "# For example, here's several helpful packages to load\n",
    "\n",
    "import numpy as np # linear algebra\n",
    "import pandas as pd # data processing, CSV file I/O (e.g. pd.read_csv)\n",
    "\n",
    "# Input data files are available in the read-only \"../input/\" directory\n",
    "# For example, running this (by clicking run or pressing Shift+Enter) will list all files under the input directory\n",
    "\n",
    "import os\n",
    "\n",
    "# You can write up to 5GB to the current directory (/kaggle/working/) that gets preserved as output when you create a version using \"Save & Run All\" \n",
    "# You can also write temporary files to /kaggle/temp/, but they won't be saved outside of the current session"
   ]
  },
  {
   "cell_type": "code",
   "execution_count": null,
   "metadata": {},
   "outputs": [],
   "source": [
    "import cv2\n",
    "import random\n",
    "from keras.preprocessing.image import ImageDataGenerator"
   ]
  },
  {
   "cell_type": "code",
   "execution_count": null,
   "metadata": {},
   "outputs": [],
   "source": [
    "# files = os.listdir('../input/cat-and-dog/training_set/training_set/cats')\n",
    "# for file in files[5:3000]:\n",
    "#     print(file)\n",
    "# #     os.remove(file)\n",
    "# files = os.listdir('../input/cat-and-dog/training_set/training_set/dogs')\n",
    "# for file in files[1:3000]:\n",
    "#     os.remove(file)\n",
    "\n",
    "# augmentation = ImageDataGenerator(featurewise_center=True, \n",
    "#                                   zoom_range=0.3, \n",
    "#                                   width_shift_range=0.2, \n",
    "#                                   horizontal_flip=True, \n",
    "#                                   rotation_range=90,)\n",
    "\n",
    "# augment_images = augmentation.flow_from_directory(\"../input/cat-and-dog/training_set/training_set/cats\",\n",
    "#                                                  batch_size=100,\n",
    "#                                                  class_mode=\"binary\",\n",
    "#                                                  save_to_dir=\"../processed/images\")\n",
    "\n"
   ]
  },
  {
   "cell_type": "code",
   "execution_count": null,
   "metadata": {
    "_cell_guid": "79c7e3d0-c299-4dcb-8224-4455121ee9b0",
    "_uuid": "d629ff2d2480ee46fbb7e2d37f6b5fab8052498a"
   },
   "outputs": [],
   "source": [
    "PATHDIR = \"../input/cat-and-dog/\"\n",
    "categories = [\"cats\",\"dogs\"]\n",
    "\n",
    "IMG_SIZE = 100\n",
    "\n",
    "\n",
    "\n",
    "\n",
    "def create_training_data():\n",
    "    training_data = []\n",
    "    \n",
    "    for c in categories:\n",
    "        for img_name in os.listdir(os.path.join(PATHDIR,\"training_set/training_set\",c)):\n",
    "            img_path = os.path.join(PATHDIR,\"training_set/training_set\",c,img_name)\n",
    "            img_arr = cv2.imread(img_path,0)\n",
    "            try:\n",
    "                resized = cv2.resize(img_arr, (IMG_SIZE,IMG_SIZE))\n",
    "                norm_arr = resized/255\n",
    "                training_data.append([norm_arr, categories.index(c)])\n",
    "            except Exception as e:\n",
    "                pass\n",
    "    random.shuffle(training_data)\n",
    "    return training_data\n",
    "\n",
    "training_data = create_training_data()\n",
    "print(len(training_data[0][0]))\n"
   ]
  },
  {
   "cell_type": "code",
   "execution_count": null,
   "metadata": {},
   "outputs": [],
   "source": [
    "print(len(training_data[0][0][99]))"
   ]
  },
  {
   "cell_type": "code",
   "execution_count": null,
   "metadata": {},
   "outputs": [],
   "source": [
    "X = []\n",
    "y = []\n",
    "\n",
    "for f,l in training_data:\n",
    "    X.append(f)\n",
    "    y.append(l)\n",
    "\n",
    "# print(len(X))\n",
    "X = np.array(X).reshape(-1, IMG_SIZE,IMG_SIZE,1)\n",
    "# print(X[0])\n",
    "print(len(X[0][0][0]))\n",
    "print(X[0][0][0].shape)\n",
    "y = np.array(y)"
   ]
  },
  {
   "cell_type": "code",
   "execution_count": null,
   "metadata": {},
   "outputs": [],
   "source": [
    "import tensorflow as tf\n",
    "from tensorflow.keras.models import Sequential\n",
    "from tensorflow.keras.layers import Conv2D, MaxPooling2D, Flatten, Dense, Dropout\n",
    "from keras.models import load_model"
   ]
  },
  {
   "cell_type": "code",
   "execution_count": null,
   "metadata": {},
   "outputs": [],
   "source": [
    "model = Sequential()\n",
    "\n",
    "#First Layer\n",
    "model.add(Conv2D(64, (3,3), input_shape = (IMG_SIZE,IMG_SIZE,1)))\n",
    "model.add(MaxPooling2D(pool_size= (2,2)))\n",
    "model.add(Flatten())\n",
    "\n",
    "#Second Layer\n",
    "model.add(Dense(128, activation=\"relu\"))\n",
    "model.add(Dropout(0.2))\n",
    "\n",
    "#Output Layer\n",
    "model.add(Dense(10, activation = \"softmax\"))\n",
    "\n",
    "model.summary()\n",
    "\n"
   ]
  },
  {
   "cell_type": "code",
   "execution_count": null,
   "metadata": {},
   "outputs": [],
   "source": [
    "model.compile(optimizer = \"adam\",\n",
    "             loss =\"sparse_categorical_crossentropy\",\n",
    "             metrics = [\"accuracy\"])\n",
    "\n",
    "model.fit(X,y, epochs = 20)"
   ]
  },
  {
   "cell_type": "code",
   "execution_count": null,
   "metadata": {},
   "outputs": [],
   "source": [
    "def create_testing_data():\n",
    "    testing_data = []\n",
    "    \n",
    "    for c in categories:\n",
    "        for img_name in os.listdir(os.path.join(PATHDIR,\"training_set/training_set\",c)):\n",
    "            img_path = os.path.join(PATHDIR,\"training_set/training_set\",c,img_name)\n",
    "            img_arr = cv2.imread(img_path,0)\n",
    "            try:\n",
    "                resized = cv2.resize(img_arr, (IMG_SIZE,IMG_SIZE))\n",
    "                norm_arr = resized/255\n",
    "                testing_data.append([norm_arr, categories.index(c)])\n",
    "            except Exception as e:\n",
    "                pass\n",
    "    random.shuffle(testing_data)\n",
    "    return testing_data\n",
    "\n",
    "test_data = create_testing_data()"
   ]
  },
  {
   "cell_type": "code",
   "execution_count": null,
   "metadata": {},
   "outputs": [],
   "source": [
    "X_test = []\n",
    "y_test = []\n",
    "\n",
    "for f,l in test_data:\n",
    "    X_test.append(f)\n",
    "    y_test.append(l)\n",
    "    \n",
    "X_test = np.array(X_test).reshape(-1, IMG_SIZE, IMG_SIZE,1)\n",
    "y_test = np.array(y_test)"
   ]
  },
  {
   "cell_type": "code",
   "execution_count": null,
   "metadata": {},
   "outputs": [],
   "source": [
    "model.save(\"model_save_1\")\n",
    "network = load_model(\"model_save_1\")\n",
    "\n",
    "\n",
    "\n",
    "network.evaluate(X_test, y_test)\n",
    "\n"
   ]
  },
  {
   "cell_type": "code",
   "execution_count": null,
   "metadata": {},
   "outputs": [],
   "source": [
    "import matplotlib.pyplot as plt"
   ]
  },
  {
   "cell_type": "code",
   "execution_count": null,
   "metadata": {},
   "outputs": [],
   "source": [
    "img_path = \"../input/cat-dataset/CAT_00/00000001_005.jpg\"\n",
    "img_arr = cv2.imread(img_path,0)\n",
    "img_arr = cv2.resize(img_arr, (IMG_SIZE,IMG_SIZE))\n",
    "norm_arr = img_arr/255\n",
    "pred_img = (norm_arr)\n",
    "    \n",
    "    \n",
    "pred_img = pred_img.reshape(100,100,1)"
   ]
  },
  {
   "cell_type": "code",
   "execution_count": null,
   "metadata": {},
   "outputs": [],
   "source": [
    "test_img = pred_img\n",
    "test_img = test_img.reshape(1,IMG_SIZE,IMG_SIZE,1)\n",
    "predict_ = model.predict(test_img)[0]\n",
    "\n",
    "for i in range(len(predict_)):\n",
    "    if(predict_[i] == max(predict_)):\n",
    "        if(i == 0):\n",
    "            print(\"This is a CAT!\")\n",
    "        else:\n",
    "            print(\"This is a DOG!\")\n",
    "        \n",
    "plt.imshow(test_img.reshape(IMG_SIZE,IMG_SIZE), cmap='gray')"
   ]
  },
  {
   "cell_type": "code",
   "execution_count": null,
   "metadata": {},
   "outputs": [],
   "source": []
  }
 ],
 "metadata": {
  "kernelspec": {
   "display_name": "Python 3",
   "language": "python",
   "name": "python3"
  },
  "language_info": {
   "codemirror_mode": {
    "name": "ipython",
    "version": 3
   },
   "file_extension": ".py",
   "mimetype": "text/x-python",
   "name": "python",
   "nbconvert_exporter": "python",
   "pygments_lexer": "ipython3",
   "version": "3.8.3"
  }
 },
 "nbformat": 4,
 "nbformat_minor": 4
}
