{
  "nbformat": 4,
  "nbformat_minor": 0,
  "metadata": {
    "colab": {
      "name": "Ch 17. Support vector machine.ipynb",
      "provenance": [],
      "collapsed_sections": []
    },
    "kernelspec": {
      "name": "python3",
      "display_name": "Python 3"
    }
  },
  "cells": [
    {
      "cell_type": "code",
      "metadata": {
        "id": "Xs95_6Kdem5b"
      },
      "source": [
        "n차원 공간에 있는 n-1차원 부분 공간\r\n",
        "훈련 데이터를 분류하기 위해 클래스 사이의 margin을 최대화하는 초평면을 찾는다."
      ],
      "execution_count": null,
      "outputs": []
    },
    {
      "cell_type": "markdown",
      "metadata": {
        "id": "Z19t2vL8ezIQ"
      },
      "source": [
        "**17.1 선형 분류기 훈련**\r\n",
        "\r\n",
        "SVC(서포트 벡터 분류기)를 사용하여 클래스 사이 마진을 최대화하는 초평면 가짐"
      ]
    },
    {
      "cell_type": "code",
      "metadata": {
        "id": "wKYNxEDTe6i4"
      },
      "source": [
        "from sklearn.svm import LinearSVC\r\n",
        "from sklearn import datasets\r\n",
        "from sklearn.preprocessing import StandardScaler\r\n",
        "import numpy as np"
      ],
      "execution_count": null,
      "outputs": []
    },
    {
      "cell_type": "code",
      "metadata": {
        "id": "bQyRZFIlfEJ_"
      },
      "source": [
        "# 데이터를 로드하고 두 개의 클래스와 두 개의 특성 선택\r\n",
        "iris = datasets.load_iris()\r\n",
        "features = iris.data[:100,:2]\r\n",
        "target = iris.target[:100]"
      ],
      "execution_count": null,
      "outputs": []
    },
    {
      "cell_type": "code",
      "metadata": {
        "id": "uMIdHqxtfNzo"
      },
      "source": [
        "# 특성 표준화\r\n",
        "scaler = StandardScaler()\r\n",
        "features_standardized = scaler.fit_transform(features)"
      ],
      "execution_count": null,
      "outputs": []
    },
    {
      "cell_type": "code",
      "metadata": {
        "id": "jmruAbDufXBu"
      },
      "source": [
        "# 서포트 벡터 분류기 만듬\r\n",
        "svc = LinearSVC(C=1.0)"
      ],
      "execution_count": null,
      "outputs": []
    },
    {
      "cell_type": "code",
      "metadata": {
        "id": "ZPzbYavofaqG"
      },
      "source": [
        "# 모델 훈련\r\n",
        "model = svc.fit(features_standardized, target)"
      ],
      "execution_count": null,
      "outputs": []
    },
    {
      "cell_type": "markdown",
      "metadata": {
        "id": "2i05ugfPfwKX"
      },
      "source": [
        "데이터와 초평면 그려보기"
      ]
    },
    {
      "cell_type": "code",
      "metadata": {
        "id": "qwnwvPt-fmPD"
      },
      "source": [
        "from matplotlib import pyplot as plt"
      ],
      "execution_count": null,
      "outputs": []
    },
    {
      "cell_type": "code",
      "metadata": {
        "colab": {
          "base_uri": "https://localhost:8080/",
          "height": 283
        },
        "id": "zmtgNdBcf2ad",
        "outputId": "9f810e4b-0194-4e03-b619-f7abb7521493"
      },
      "source": [
        "# 클래스를 색으로 구분한 산점도 그리기 (클래스 0의 샘플 검정, 클래스 1의 샘플 밝은 회색)\r\n",
        "color = [\"black\" if c==0 else \"lightgrey\" for c in target ]\r\n",
        "plt.scatter(features_standardized[:,0],features_standardized[:,1], c=color)"
      ],
      "execution_count": null,
      "outputs": [
        {
          "output_type": "execute_result",
          "data": {
            "text/plain": [
              "<matplotlib.collections.PathCollection at 0x7f8148a14a58>"
            ]
          },
          "metadata": {
            "tags": []
          },
          "execution_count": 11
        },
        {
          "output_type": "display_data",
          "data": {
            "image/png": "[encoded data removed]",
            "text/plain": [
              "<Figure size 432x288 with 1 Axes>"
            ]
          },
          "metadata": {
            "tags": [],
            "needs_background": "light"
          }
        }
      ]
    },
    {
      "cell_type": "code",
      "metadata": {
        "id": "CqE8iDF-gDCB"
      },
      "source": [
        "# 초평면 만듬\r\n",
        "w=svc.coef_[0]\r\n",
        "a=-w[0]/w[1]\r\n",
        "xx=np.linspace(-2.5,2.5)\r\n",
        "yy= a*xx -(svc.intercept_[0]) / w[1]"
      ],
      "execution_count": null,
      "outputs": []
    },
    {
      "cell_type": "code",
      "metadata": {
        "colab": {
          "base_uri": "https://localhost:8080/",
          "height": 248
        },
        "id": "8Y634ya2gL2o",
        "outputId": "cd6b5416-6287-47e0-ff41-e6fe122d894a"
      },
      "source": [
        "# 초평면 그림\r\n",
        "plt.plot(xx,yy)\r\n",
        "plt.axis(\"off\"),plt.show();"
      ],
      "execution_count": null,
      "outputs": [
        {
          "output_type": "display_data",
          "data": {
            "image/png": "[encoded data removed]",
            "text/plain": [
              "<Figure size 432x288 with 1 Axes>"
            ]
          },
          "metadata": {
            "tags": [],
            "needs_background": "light"
          }
        }
      ]
    },
    {
      "cell_type": "code",
      "metadata": {
        "id": "SfCzuFX_gdW9"
      },
      "source": [
        "# 새로운 샘플 만들기\r\n",
        "new_observation = [[-2,3]]"
      ],
      "execution_count": null,
      "outputs": []
    },
    {
      "cell_type": "code",
      "metadata": {
        "colab": {
          "base_uri": "https://localhost:8080/"
        },
        "id": "VqwCM83fgsCg",
        "outputId": "cbd79d23-f692-4fbc-9e3e-3dde268e471b"
      },
      "source": [
        "# 새로운 샘플 클래스 예측\r\n",
        "svc.predict(new_observation)"
      ],
      "execution_count": null,
      "outputs": [
        {
          "output_type": "execute_result",
          "data": {
            "text/plain": [
              "array([0])"
            ]
          },
          "metadata": {
            "tags": []
          },
          "execution_count": 19
        }
      ]
    },
    {
      "cell_type": "markdown",
      "metadata": {
        "id": "JVMqcTcPhAwP"
      },
      "source": [
        "* SVC는 다중 클래스 환경에서 잘 동작\r\n",
        "* 초평면은 선형 (곡선x)\r\n",
        "* 일반적으로 클래스를 완벽하게 구분할 수 없기 때문에, 초평면의 마진을 최대화하는 SVC와 / 오차에 부과하는 페널티인 하이퍼파라미터 C를 가지고 분류 오타를 최소화하는 것 사이에 균형을 잡아야 한다!\r\n",
        "* C는 SVC 모델의 매개변수\r\n",
        "* C는 잘못 분류된 데이터 포인트에 부여하는 페널티 (C가 크면 잘못 분류된 데이터에 큰 페널티 부과)\r\n",
        "* 사이킷런에서 C는 매개변수 C로 지정, 기본값이 1.0"
      ]
    },
    {
      "cell_type": "markdown",
      "metadata": {
        "id": "vlAHzBp6iDCG"
      },
      "source": [
        "**17.2  커널을 사용해 선형적으로 구분되지 않는 클래스 다루기**"
      ]
    },
    {
      "cell_type": "code",
      "metadata": {
        "id": "rTrY7XRmiqWH"
      },
      "source": [
        "from sklearn.svm import SVC"
      ],
      "execution_count": null,
      "outputs": []
    },
    {
      "cell_type": "code",
      "metadata": {
        "id": "MA6qo_2fgyjE"
      },
      "source": [
        "# 랜덤 시드 지정\r\n",
        "np.random.seed(0)"
      ],
      "execution_count": null,
      "outputs": []
    },
    {
      "cell_type": "code",
      "metadata": {
        "id": "pAONLco6iLGY"
      },
      "source": [
        "# 두개의 특성 만듬\r\n",
        "features = np.random.randn(200,2)"
      ],
      "execution_count": null,
      "outputs": []
    },
    {
      "cell_type": "code",
      "metadata": {
        "id": "FXhsh4qZiOcK"
      },
      "source": [
        "# XOR 사용해 선형적으로 구분할 수 없는 클래스 만듬\r\n",
        "target_xor = np.logical_xor(features[:,0]>0, features[:,1]>0)\r\n",
        "target = np.where(target_xor,0,1)"
      ],
      "execution_count": null,
      "outputs": []
    },
    {
      "cell_type": "code",
      "metadata": {
        "id": "g_9orL7kiZA9"
      },
      "source": [
        "# 방사 기저 함수 커널을 사용한 서포트 벡터 머신 만듬\r\n",
        "svc = SVC(kernel=\"rbf\", random_state=0, gamma=1, C=1)"
      ],
      "execution_count": null,
      "outputs": []
    },
    {
      "cell_type": "code",
      "metadata": {
        "id": "vLRsHMCOigv4"
      },
      "source": [
        "# 분류기 훈련\r\n",
        "model = svc.fit(features, target)"
      ],
      "execution_count": null,
      "outputs": []
    },
    {
      "cell_type": "markdown",
      "metadata": {
        "id": "4TkxkLnai-K4"
      },
      "source": [
        "커널을 이해하기 위해 샘플 시각화"
      ]
    },
    {
      "cell_type": "code",
      "metadata": {
        "id": "i3URLAn0iy8e"
      },
      "source": [
        "# 샘플과 결정 경계를 그림\r\n",
        "from matplotlib.colors import ListedColormap\r\n",
        "import matplotlib.pyplot as plt\r\n",
        "\r\n",
        "# 2차원 공간에 샘플과 결정 경계를 그리는 함수\r\n",
        "def plot_decision_regions(X, y, classifier):\r\n",
        "  cmap = ListedColormap((\"red\", \"blue\"))\r\n",
        "  xx1, xx2 = np.meshgrid(np.arange(-3, 3, 0.02), np.arange(-3, 3, 0.02))\r\n",
        "  Z = classifier.predict(np.array([xx1.ravel(), xx2.ravel()]).T)\r\n",
        "  Z = Z.reshape(xx1.shape)\r\n",
        "  plt.contourf(xx1, xx2, Z, alpha=0.1, cmap=cmap)\r\n",
        "\r\n",
        "  for idx, cl in enumerate(np.unique(y)):\r\n",
        "    plt.scatter(x=X[y==cl,0], y=X[y==cl,1],\r\n",
        "                alpha=0.8, c=cmap.colors[idx],\r\n",
        "                marker=\"+\", label=cl)"
      ],
      "execution_count": null,
      "outputs": []
    },
    {
      "cell_type": "code",
      "metadata": {
        "id": "vMpiWj_gkEq1"
      },
      "source": [
        "# 선형 커널을 사용한 서포트 벡터 분류기를 만듭니다.\r\n",
        "svc_linear = SVC(kernel = \"linear\", random_state=0, C=1)"
      ],
      "execution_count": null,
      "outputs": []
    },
    {
      "cell_type": "code",
      "metadata": {
        "colab": {
          "base_uri": "https://localhost:8080/"
        },
        "id": "rZm6XC37kLRa",
        "outputId": "b82c62cf-590c-48b2-d041-8100c95a4a88"
      },
      "source": [
        "# 모델을 훈련합니다.\r\n",
        "svc_linear.fit(features, target)"
      ],
      "execution_count": null,
      "outputs": [
        {
          "output_type": "execute_result",
          "data": {
            "text/plain": [
              "SVC(C=1, break_ties=False, cache_size=200, class_weight=None, coef0=0.0,\n",
              "    decision_function_shape='ovr', degree=3, gamma='scale', kernel='linear',\n",
              "    max_iter=-1, probability=False, random_state=0, shrinking=True, tol=0.001,\n",
              "    verbose=False)"
            ]
          },
          "metadata": {
            "tags": []
          },
          "execution_count": 56
        }
      ]
    },
    {
      "cell_type": "code",
      "metadata": {
        "colab": {
          "base_uri": "https://localhost:8080/",
          "height": 248
        },
        "id": "rL3WkDaOkNuM",
        "outputId": "0d3661af-21b6-4bb5-d45d-52f509e3f128"
      },
      "source": [
        "# 샘플과 초평면을 그립니다\r\n",
        "plot_decision_regions(features, target, classifier=svc_linear)\r\n",
        "plt.axis(\"off\"), plt.show();"
      ],
      "execution_count": null,
      "outputs": [
        {
          "output_type": "display_data",
          "data": {
            "image/png": "[encoded data removed]",
            "text/plain": [
              "<Figure size 432x288 with 1 Axes>"
            ]
          },
          "metadata": {
            "tags": [],
            "needs_background": "light"
          }
        }
      ]
    },
    {
      "cell_type": "markdown",
      "metadata": {
        "id": "2MhMF0uan0Mi"
      },
      "source": [
        "선형 초평면이 두 클래스를 엉터리로 나누기 때문에\r\n",
        "\r\n",
        "선형 커널을 방사 기저 함수 커널로 바꾸고 새로운 모델 훈련"
      ]
    },
    {
      "cell_type": "code",
      "metadata": {
        "id": "w9PqQAVMnGhO"
      },
      "source": [
        "# 방사 기저 함수 커널을 사용한 서포트 벡터 머신 만듬\r\n",
        "svc= SVC(kernel=\"rbf\", random_state=0, gamma=1, C=1)"
      ],
      "execution_count": null,
      "outputs": []
    },
    {
      "cell_type": "code",
      "metadata": {
        "id": "zDh0psOBnM81"
      },
      "source": [
        "# 분류기 훈련\r\n",
        "model=svc.fit(features,target)"
      ],
      "execution_count": null,
      "outputs": []
    },
    {
      "cell_type": "code",
      "metadata": {
        "colab": {
          "base_uri": "https://localhost:8080/",
          "height": 248
        },
        "id": "uws4rsrZnQRP",
        "outputId": "f2491868-62fb-4a25-9bc4-4a92cd17b3c0"
      },
      "source": [
        "# 샘플과 초평면 그림\r\n",
        "plot_decision_regions(features, target, classifier=svc)\r\n",
        "plt.axis(\"off\"),plt.show();"
      ],
      "execution_count": null,
      "outputs": [
        {
          "output_type": "display_data",
          "data": {
            "image/png": "[encoded data removed]",
            "text/plain": [
              "<Figure size 432x288 with 1 Axes>"
            ]
          },
          "metadata": {
            "tags": [],
            "needs_background": "light"
          }
        }
      ]
    },
    {
      "cell_type": "markdown",
      "metadata": {
        "id": "IPUnnK78n74Y"
      },
      "source": [
        "방사 기저 함수 커널 사용 시 선형 커널보다 훨씬 잘 구분하는 결정 경계를 만들 수 있음\r\n",
        "\r\n",
        "* 사이킷런에서 kernel 매개변수 사용해 원하는 커널 선택 가능\r\n",
        "* 커널 선택 시 지정해야 하는 커널 옵션 - 다항 커널의 d. 방사 기저 함수 커널의 감마"
      ]
    },
    {
      "cell_type": "markdown",
      "metadata": {
        "id": "6WXvRDjYoQ9U"
      },
      "source": [
        "**17.3 예측 확률 계산**\r\n",
        "\r\n",
        "SVC 클래스 사용 시 probability = True 로 지정해 모델 훈련 시\r\n",
        "predict_proba 메서드에서 보정된 확률 확인 가능"
      ]
    },
    {
      "cell_type": "code",
      "metadata": {
        "id": "qOteiqh-pNKH"
      },
      "source": [
        "iris=datasets.load_iris()\r\n",
        "features=iris.data\r\n",
        "target=iris.target\r\n",
        "\r\n",
        "scaler=StandardScaler()\r\n",
        "features_standardized = scaler.fit_transform(features)"
      ],
      "execution_count": null,
      "outputs": []
    },
    {
      "cell_type": "code",
      "metadata": {
        "id": "_knV127loQiW"
      },
      "source": [
        "# 서포트 벡터 분류기를 만듬\r\n",
        "svc = SVC(kernel=\"linear\", probability=True, random_state=0)"
      ],
      "execution_count": null,
      "outputs": []
    },
    {
      "cell_type": "code",
      "metadata": {
        "id": "8ltpuO9knXPd"
      },
      "source": [
        "# 분류기 훈련\r\n",
        "model = svc.fit(features_standardized, target)"
      ],
      "execution_count": null,
      "outputs": []
    },
    {
      "cell_type": "code",
      "metadata": {
        "id": "Hqj65TYXo8yP"
      },
      "source": [
        "# 새로운 샘플 만듬\r\n",
        "new_observation = [[.4, .4, .4, .4]]"
      ],
      "execution_count": null,
      "outputs": []
    },
    {
      "cell_type": "code",
      "metadata": {
        "colab": {
          "base_uri": "https://localhost:8080/"
        },
        "id": "-vor3DzkpgDf",
        "outputId": "28457f0b-fbc7-4f18-a240-030c029d03e9"
      },
      "source": [
        "# 예측 확률 확인\r\n",
        "model.predict_proba(new_observation)"
      ],
      "execution_count": null,
      "outputs": [
        {
          "output_type": "execute_result",
          "data": {
            "text/plain": [
              "array([[0.00623541, 0.96973799, 0.0240266 ]])"
            ]
          },
          "metadata": {
            "tags": []
          },
          "execution_count": 70
        }
      ]
    },
    {
      "cell_type": "markdown",
      "metadata": {
        "id": "oI0Puv6ipsjF"
      },
      "source": [
        "**17.4 서포트 벡터 식별하기**"
      ]
    },
    {
      "cell_type": "code",
      "metadata": {
        "id": "g4p1FpnqpjtS"
      },
      "source": [
        "iris=datasets.load_iris()\r\n",
        "features=iris.data[:100,:]\r\n",
        "target=iris.target[:100]\r\n",
        "\r\n",
        "scaler=StandardScaler()\r\n",
        "features_standardized = scaler.fit_transform(features)"
      ],
      "execution_count": null,
      "outputs": []
    },
    {
      "cell_type": "code",
      "metadata": {
        "id": "8XfVBFj1p83l"
      },
      "source": [
        "svc=SVC(kernel =\"linear\", random_state=0)"
      ],
      "execution_count": null,
      "outputs": []
    },
    {
      "cell_type": "code",
      "metadata": {
        "id": "jJARRNyJqB6V"
      },
      "source": [
        "model=svc.fit(features_standardized, target)"
      ],
      "execution_count": null,
      "outputs": []
    },
    {
      "cell_type": "code",
      "metadata": {
        "colab": {
          "base_uri": "https://localhost:8080/"
        },
        "id": "Rpy4WNY8qEkj",
        "outputId": "a2843f21-960c-40b5-d6d3-5c2705458633"
      },
      "source": [
        "# 서포트 벡터 확인\r\n",
        "model.support_vectors_"
      ],
      "execution_count": null,
      "outputs": [
        {
          "output_type": "execute_result",
          "data": {
            "text/plain": [
              "array([[-0.5810659 ,  0.42196824, -0.80497402, -0.50860702],\n",
              "       [-1.52079513, -1.67737625, -1.08231219, -0.86427627],\n",
              "       [-0.89430898, -1.4674418 ,  0.30437864,  0.38056609],\n",
              "       [-0.5810659 , -1.25750735,  0.09637501,  0.55840072]])"
            ]
          },
          "metadata": {
            "tags": []
          },
          "execution_count": 74
        }
      ]
    },
    {
      "cell_type": "markdown",
      "metadata": {
        "id": "t0jSnhIZqKXl"
      },
      "source": [
        "* 초평면이 비교적 소수의 샘플에 의해 결정된다.\r\n",
        "* 서포트 벡터는 모델에서 중요\r\n",
        "* 서포트 벡터가 아닌 샘플을 삭제하면 모델이 변하지 않지만\r\n",
        " 서포트 벡터를 삭제하면 초평면이 만드는 최대 마진이 달라짐\r\n",
        "\r\n",
        " * SVC 훈련 후 서포트 벡터 식별할 수 있는 방법"
      ]
    },
    {
      "cell_type": "markdown",
      "metadata": {
        "id": "TloS0OBxqkqJ"
      },
      "source": [
        "**17.5 불균형한 클래스 다루기**"
      ]
    },
    {
      "cell_type": "code",
      "metadata": {
        "id": "ffiB2WviqG9Y"
      },
      "source": [
        "iris=datasets.load_iris()\r\n",
        "features=iris.data[:100,:]\r\n",
        "target=iris.target[:100]"
      ],
      "execution_count": null,
      "outputs": []
    },
    {
      "cell_type": "code",
      "metadata": {
        "id": "lYgXS164qsbe"
      },
      "source": [
        "# 처음 40개 샘플 제거해 불균형한 클래스 만듬\r\n",
        "features = features[40:,:]\r\n",
        "target = target[40:]"
      ],
      "execution_count": null,
      "outputs": []
    },
    {
      "cell_type": "code",
      "metadata": {
        "id": "6lYlUGZrqzPw"
      },
      "source": [
        "# 타깃 벡터에서 0이 아닌 클래스는 모두 1로 만듬\r\n",
        "target = np.where((target==0),0,1)"
      ],
      "execution_count": null,
      "outputs": []
    },
    {
      "cell_type": "code",
      "metadata": {
        "id": "gqGydZa1q35E"
      },
      "source": [
        "scaler=StandardScaler()\r\n",
        "features_standardized = scaler.fit_transform(features)"
      ],
      "execution_count": null,
      "outputs": []
    },
    {
      "cell_type": "code",
      "metadata": {
        "id": "Puoig7aEq7D3"
      },
      "source": [
        "svc=SVC(kernel=\"linear\", class_weight=\"balanced\", C=1.0, random_state=0)"
      ],
      "execution_count": null,
      "outputs": []
    },
    {
      "cell_type": "code",
      "metadata": {
        "id": "J7L_3IAOrAGr"
      },
      "source": [
        "model=svc.fit(features_standardized, target)"
      ],
      "execution_count": null,
      "outputs": []
    },
    {
      "cell_type": "markdown",
      "metadata": {
        "id": "XtFO_pLFrGVn"
      },
      "source": [
        "* SVC에서 C는 샘플의 분류 오차에 대한 페널티를 결정\r\n",
        "* SVC에서 불균형한 클래스 다루는 방법 - 클래스별로 C를 가중\r\n",
        "* class_weight=\"balanced\"로 지정하여 자동으로 C 값을 지정할 수 있음"
      ]
    }
  ]
}