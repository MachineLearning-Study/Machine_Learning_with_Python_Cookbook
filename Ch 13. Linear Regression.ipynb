{
  "nbformat": 4,
  "nbformat_minor": 0,
  "metadata": {
    "colab": {
      "name": "Ch13. Linear Regression .ipynb",
      "provenance": [],
      "collapsed_sections": [
        "CEl9U5y9GLJ8"
      ]
    },
    "kernelspec": {
      "name": "python3",
      "display_name": "Python 3"
    }
  },
  "cells": [
    {
      "cell_type": "markdown",
      "metadata": {
        "id": "CEl9U5y9GLJ8"
      },
      "source": [
        "## **Chapter 13. 선형회귀**"
      ]
    },
    {
      "cell_type": "markdown",
      "metadata": {
        "id": "Q0mxumD3Gf_-"
      },
      "source": [
        "**13.1 직선 학습하기**\r\n",
        "\r\n",
        "\r\n",
        "특성과 타깃 벡터 사이의 선형 관계를 표현하는 모델을 훈련하고 싶다.\r\n",
        "\r\n",
        "-> 선형 회귀 사용. (사이킷런의 LinearRegression)\r\n",
        "\r\n",
        "\r\n",
        "* 선형회귀 모델 만드는 LinearRegression()\r\n",
        "* 선형회귀 모델 훈련하는 fit(features, target)\r\n",
        "** 특성과 타깃 벡터 사이의 관계가 선형\r\n"
      ]
    },
    {
      "cell_type": "code",
      "metadata": {
        "id": "loS8aRhzG5nw"
      },
      "source": [
        "# 라이브러리를 임포트\r\n",
        "from sklearn.linear_model import LinearRegression\r\n",
        "from sklearn.datasets import load_boston\r\n",
        "\r\n",
        "# 데이터를 로드하고 두 개의 특성만 선택합니다\r\n",
        "boston = load_boston()\r\n",
        "features = boston.data[:,0:2]\r\n",
        "target = boston.target"
      ],
      "execution_count": null,
      "outputs": []
    },
    {
      "cell_type": "code",
      "metadata": {
        "colab": {
          "base_uri": "https://localhost:8080/"
        },
        "id": "DbGuTqwjMRWy",
        "outputId": "c14e114e-a8c1-4e83-d03a-fd8ebd136939"
      },
      "source": [
        "print(boston.keys())"
      ],
      "execution_count": null,
      "outputs": [
        {
          "output_type": "stream",
          "text": [
            "dict_keys(['data', 'target', 'feature_names', 'DESCR', 'filename'])\n"
          ],
          "name": "stdout"
        }
      ]
    },
    {
      "cell_type": "code",
      "metadata": {
        "colab": {
          "base_uri": "https://localhost:8080/"
        },
        "id": "q60DA6ZhMTuc",
        "outputId": "6b85efcc-d6cd-4b8b-825a-1011dacb3016"
      },
      "source": [
        "print(boston.feature_names)"
      ],
      "execution_count": null,
      "outputs": [
        {
          "output_type": "stream",
          "text": [
            "['CRIM' 'ZN' 'INDUS' 'CHAS' 'NOX' 'RM' 'AGE' 'DIS' 'RAD' 'TAX' 'PTRATIO'\n",
            " 'B' 'LSTAT']\n"
          ],
          "name": "stdout"
        }
      ]
    },
    {
      "cell_type": "code",
      "metadata": {
        "id": "zY1vLTwPMXi7"
      },
      "source": [
        "# 선형 회귀 모델을 만듭니다.\r\n",
        "regression = LinearRegression()\r\n",
        "\r\n",
        "# 선형 회귀 모델을 훈련합니다.\r\n",
        "model = regression.fit(features, target)"
      ],
      "execution_count": null,
      "outputs": []
    },
    {
      "cell_type": "code",
      "metadata": {
        "colab": {
          "base_uri": "https://localhost:8080/"
        },
        "id": "ORKIAQ-uHNFn",
        "outputId": "2c54b2f8-3c3f-46c7-aad2-b0a8eed414fc"
      },
      "source": [
        "# 절편을 확인합니다.\r\n",
        "model.intercept_"
      ],
      "execution_count": null,
      "outputs": [
        {
          "output_type": "execute_result",
          "data": {
            "text/plain": [
              "22.485628113468223"
            ]
          },
          "metadata": {
            "tags": []
          },
          "execution_count": 2
        }
      ]
    },
    {
      "cell_type": "code",
      "metadata": {
        "colab": {
          "base_uri": "https://localhost:8080/"
        },
        "id": "cO1TD_b_HTIf",
        "outputId": "28aeccdb-4171-46f5-8df6-d6d1532cb094"
      },
      "source": [
        "# 특성의 계수를 확인합니다.\r\n",
        "model.coef_"
      ],
      "execution_count": null,
      "outputs": [
        {
          "output_type": "execute_result",
          "data": {
            "text/plain": [
              "array([-0.35207832,  0.11610909])"
            ]
          },
          "metadata": {
            "tags": []
          },
          "execution_count": 3
        }
      ]
    },
    {
      "cell_type": "code",
      "metadata": {
        "colab": {
          "base_uri": "https://localhost:8080/"
        },
        "id": "Mz5OnGz3HWNr",
        "outputId": "0507a37f-b067-46bf-97ba-216d4dd70dd8"
      },
      "source": [
        "# 타깃 벡터의 첫 번째 값에 1000을 곱합니다.\r\n",
        "target[0]*1000"
      ],
      "execution_count": null,
      "outputs": [
        {
          "output_type": "execute_result",
          "data": {
            "text/plain": [
              "24000.0"
            ]
          },
          "metadata": {
            "tags": []
          },
          "execution_count": 4
        }
      ]
    },
    {
      "cell_type": "code",
      "metadata": {
        "colab": {
          "base_uri": "https://localhost:8080/"
        },
        "id": "oN2lDrqGHcNU",
        "outputId": "0052bc60-ef7c-48cf-ae33-a1dc04b57053"
      },
      "source": [
        "# 첫 번째 샘플의 타깃값을 예측하고 1000을 곱합니다.\r\n",
        "model.predict(features)[0]*1000"
      ],
      "execution_count": null,
      "outputs": [
        {
          "output_type": "execute_result",
          "data": {
            "text/plain": [
              "24573.366631705547"
            ]
          },
          "metadata": {
            "tags": []
          },
          "execution_count": 5
        }
      ]
    },
    {
      "cell_type": "code",
      "metadata": {
        "colab": {
          "base_uri": "https://localhost:8080/"
        },
        "id": "ylocUW4kHf6n",
        "outputId": "9c79cb8b-92cd-4091-a594-f35a9ba293dd"
      },
      "source": [
        "# 첫 번째 계수에 1000을 곱합니다.\r\n",
        "model.coef_[0]*1000"
      ],
      "execution_count": null,
      "outputs": [
        {
          "output_type": "execute_result",
          "data": {
            "text/plain": [
              "-352.07831564026765"
            ]
          },
          "metadata": {
            "tags": []
          },
          "execution_count": 6
        }
      ]
    },
    {
      "cell_type": "code",
      "metadata": {
        "colab": {
          "base_uri": "https://localhost:8080/"
        },
        "id": "ZtSg4Y8iHkV5",
        "outputId": "ebcfaa0a-df3c-4c0b-8c33-3cf81d4fc705"
      },
      "source": [
        "regression is model"
      ],
      "execution_count": null,
      "outputs": [
        {
          "output_type": "execute_result",
          "data": {
            "text/plain": [
              "True"
            ]
          },
          "metadata": {
            "tags": []
          },
          "execution_count": 7
        }
      ]
    },
    {
      "cell_type": "code",
      "metadata": {
        "colab": {
          "base_uri": "https://localhost:8080/"
        },
        "id": "sRejwkoXHm7r",
        "outputId": "f1d686a1-c09d-49aa-ac91-5204b919db4f"
      },
      "source": [
        "# 모델 형성, 훈련, 예측 과정을 한번에 할 수 있다\r\n",
        "LinearRegression().fit(features,target).predict(features)[0]*1000"
      ],
      "execution_count": null,
      "outputs": [
        {
          "output_type": "execute_result",
          "data": {
            "text/plain": [
              "24573.366631705547"
            ]
          },
          "metadata": {
            "tags": []
          },
          "execution_count": 8
        }
      ]
    },
    {
      "cell_type": "markdown",
      "metadata": {
        "id": "6UNY3HgwH0vv"
      },
      "source": [
        "**13.2 교차 특성 다루기**\r\n",
        "\r\n",
        "타깃 변수에 영향을 미치면서 다른 특성에 의존하는 특성이 있다.\r\n",
        "-> 사이킷런의 PolynomialFeatures 클래스로 교차항을 만들어 의존성을 잡아냅니다.\r\n"
      ]
    },
    {
      "cell_type": "markdown",
      "metadata": {
        "id": "L1NsGfNFIDqc"
      },
      "source": [
        "# PolynomialFeatures\r\n",
        "\r\n",
        "-특성의 모든 조합에 대한 교차항을 만들어 줌\r\n",
        "\r\n",
        "-교차항 설정 시 지정해야 하는 세 개의 매개변수\r\n",
        "\r\n",
        "1. interaction_only = True\r\n",
        "\t* PolynomialFeatures가 오직 교차항만 반환 (교호작용만 분석하고 싶을 때)\r\n",
        "  * xy, xyz..\r\n",
        "2. Include_bias=False\r\n",
        "\t* default 가 true, 기본적으로 bias를 1로 채워진 특성(절편)을 추가 - 편향을 위한 변수 X0=1\r\n",
        "3. degree\r\n",
        "\t* 교차항을 만들  최대 특성의 수를 결정\r\n",
        "\t* 다항 특성을 위한 최대 타수를 결정. e) degree=3은 x^2과 x^3항을 만듬\r\n",
        "  - > 모든 조합에 대한 교차항 만듬\r\n"
      ]
    },
    {
      "cell_type": "code",
      "metadata": {
        "id": "W2hiR8UNJTIx"
      },
      "source": [
        "# 라이브러리 임포트\r\n",
        "from sklearn.linear_model import LinearRegression\r\n",
        "from sklearn.datasets import load_boston\r\n",
        "from sklearn.preprocessing import PolynomialFeatures\r\n",
        "\r\n",
        "# 데이터를 로드하고 두 개의 특성만 선택\r\n",
        "boston = load_boston()\r\n",
        "featrues = boston.data[:,0:2]\r\n",
        "target=boston.target\r\n",
        "\r\n",
        "# 교차항 만듬\r\n",
        "interaction = PolynomialFeatures( degree=3, include_bias=False, interaction_only=True)\r\n",
        "features_interaction = interaction.fit_transform(features)\r\n",
        "\r\n",
        "# 선형 회귀 모델을 만듬\r\n",
        "regression = LinearRegression()\r\n",
        "\r\n",
        "# 선형 회귀 모델을 훈련\r\n",
        "model = regression.fit(features_interaction, target)"
      ],
      "execution_count": null,
      "outputs": []
    },
    {
      "cell_type": "code",
      "metadata": {
        "colab": {
          "base_uri": "https://localhost:8080/"
        },
        "id": "fG-3k5B9JYgF",
        "outputId": "72e0f34e-65c9-469f-e6a8-11848a6f99ee"
      },
      "source": [
        "# 첫 번째 샘플의 특성값 확인\r\n",
        "features[0]"
      ],
      "execution_count": null,
      "outputs": [
        {
          "output_type": "execute_result",
          "data": {
            "text/plain": [
              "array([6.32e-03, 1.80e+01])"
            ]
          },
          "metadata": {
            "tags": []
          },
          "execution_count": 11
        }
      ]
    },
    {
      "cell_type": "code",
      "metadata": {
        "id": "2IRt9Ru1Jgjs"
      },
      "source": [
        "#모든 샘플에서 이 두 값을 곱해 교차항을 만듬\r\n",
        "\r\n",
        "# 라이브러리 임포트\r\n",
        "import numpy as np\r\n",
        "\r\n",
        "# 각 샘플에서 첫 번째와 두 번째 특성을 곱함\r\n",
        "interaction_term = np.multiply(features[:,0], features[:,1])"
      ],
      "execution_count": null,
      "outputs": []
    },
    {
      "cell_type": "code",
      "metadata": {
        "colab": {
          "base_uri": "https://localhost:8080/"
        },
        "id": "r9iUhD6_Jnce",
        "outputId": "91ce01b5-1e82-493c-9595-d33823d4d545"
      },
      "source": [
        "# 첫 번째 샘플의 교차항 확인\r\n",
        "interaction_term[0]"
      ],
      "execution_count": null,
      "outputs": [
        {
          "output_type": "execute_result",
          "data": {
            "text/plain": [
              "0.11376"
            ]
          },
          "metadata": {
            "tags": []
          },
          "execution_count": 14
        }
      ]
    },
    {
      "cell_type": "code",
      "metadata": {
        "colab": {
          "base_uri": "https://localhost:8080/"
        },
        "id": "qfxkBDGLJrTs",
        "outputId": "b1124c83-d625-4ba0-c6de-4f258b123ef1"
      },
      "source": [
        "# 첫 번째 샘플의 값 확인\r\n",
        "features_interaction[0]"
      ],
      "execution_count": null,
      "outputs": [
        {
          "output_type": "execute_result",
          "data": {
            "text/plain": [
              "array([6.3200e-03, 1.8000e+01, 1.1376e-01])"
            ]
          },
          "metadata": {
            "tags": []
          },
          "execution_count": 15
        }
      ]
    },
    {
      "cell_type": "markdown",
      "metadata": {
        "id": "ZM75T6NLJxcr"
      },
      "source": [
        "**13.3 비선형 관계 학습**\r\n",
        "\r\n",
        "비선형 관계를 모델링하고 싶다\r\n",
        "-> 선형 회귀 모델에 다항 특성을 추가하여 다항회귀를 만듬"
      ]
    },
    {
      "cell_type": "code",
      "metadata": {
        "id": "cxtCbQoNJ2Ir"
      },
      "source": [
        "# 라이브러리를 임포트\r\n",
        "from sklearn.linear_model import LinearRegression\r\n",
        "from sklearn.datasets import load_boston\r\n",
        "from sklearn.preprocessing import PolynomialFeatures\r\n",
        "\r\n",
        "# 데이터를 로드하고 하나의 특성을 선택\r\n",
        "boston=load_boston()\r\n",
        "features=boston.data[:,0:1]\r\n",
        "target=boston.target\r\n",
        "\r\n",
        "# 다항 특성 x^2와 x^3을 만듬\r\n",
        "polynomial = PolynomialFeatures(degree=3, include_bias=False)\r\n",
        "features_polynomial = polynomial.fit_transform(features)\r\n",
        "\r\n",
        "# 선형 회귀 모델을 만듬\r\n",
        "regression = LinearRegression()\r\n",
        "\r\n",
        "# 선형 회귀 모델을 훈련함\r\n",
        "model = regression.fit(features_polynomial, target)"
      ],
      "execution_count": null,
      "outputs": []
    },
    {
      "cell_type": "code",
      "metadata": {
        "colab": {
          "base_uri": "https://localhost:8080/"
        },
        "id": "7xbM7SOTJ_y1",
        "outputId": "2671fd5a-44a4-41c5-9e16-5dd9c91d5a17"
      },
      "source": [
        "# 첫 번째 샘플 확인\r\n",
        "features[0]"
      ],
      "execution_count": null,
      "outputs": [
        {
          "output_type": "execute_result",
          "data": {
            "text/plain": [
              "array([0.00632])"
            ]
          },
          "metadata": {
            "tags": []
          },
          "execution_count": 18
        }
      ]
    },
    {
      "cell_type": "code",
      "metadata": {
        "colab": {
          "base_uri": "https://localhost:8080/"
        },
        "id": "E8t0GRCQKBqF",
        "outputId": "ad4ef051-3ef6-4caf-95e5-c7885019c0dc"
      },
      "source": [
        "# 첫 번째 샘플을 x^2로 거듭제곱함\r\n",
        "features[0]**2"
      ],
      "execution_count": null,
      "outputs": [
        {
          "output_type": "execute_result",
          "data": {
            "text/plain": [
              "array([3.99424e-05])"
            ]
          },
          "metadata": {
            "tags": []
          },
          "execution_count": 19
        }
      ]
    },
    {
      "cell_type": "code",
      "metadata": {
        "colab": {
          "base_uri": "https://localhost:8080/"
        },
        "id": "Cn07ZU0lKHaE",
        "outputId": "c895bf44-54f3-4e5f-f1f8-08b90d07ffec"
      },
      "source": [
        "# 첫 번째 샘플을 x^2로 세제곱함\r\n",
        "features[0]**3"
      ],
      "execution_count": null,
      "outputs": [
        {
          "output_type": "execute_result",
          "data": {
            "text/plain": [
              "array([2.52435968e-07])"
            ]
          },
          "metadata": {
            "tags": []
          },
          "execution_count": 20
        }
      ]
    },
    {
      "cell_type": "code",
      "metadata": {
        "colab": {
          "base_uri": "https://localhost:8080/"
        },
        "id": "lVGC7zTuKNU8",
        "outputId": "7df85cee-5fe0-43df-8289-471d1ba3634e"
      },
      "source": [
        "# 첫 번째 샘플의 x, x^2, x^3 값을 확인\r\n",
        "features_polynomial[0]"
      ],
      "execution_count": null,
      "outputs": [
        {
          "output_type": "execute_result",
          "data": {
            "text/plain": [
              "array([6.32000000e-03, 3.99424000e-05, 2.52435968e-07])"
            ]
          },
          "metadata": {
            "tags": []
          },
          "execution_count": 21
        }
      ]
    },
    {
      "cell_type": "markdown",
      "metadata": {
        "id": "DHok-PsEZQDz"
      },
      "source": [
        "![a1.jpg](data:image/jpeg;base64,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)"
      ]
    },
    {
      "cell_type": "markdown",
      "metadata": {
        "id": "b0I1tE2NZgXX"
      },
      "source": [
        "![a2.jpg](data:image/jpeg;base64,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)"
      ]
    },
    {
      "cell_type": "markdown",
      "metadata": {
        "id": "qSBDgAfuZkqc"
      },
      "source": [
        "![a3.jpg](data:image/jpeg;base64,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)"
      ]
    },
    {
      "cell_type": "markdown",
      "metadata": {
        "id": "DWzPUQQlKPv6"
      },
      "source": [
        "**13.4 규제로 분산 줄이기**\r\n",
        "\r\n",
        "선형 회귀의 분산 줄이기\r\n",
        "-> 리지 회귀나 라소 회귀와 같이 축소 페널티(규제, regularization)가 포함된 학습 알고리즘 사용"
      ]
    },
    {
      "cell_type": "code",
      "metadata": {
        "id": "hX9fQ0xrKVYt"
      },
      "source": [
        "# 라이브러리 임포트\r\n",
        "from sklearn.linear_model import Ridge\r\n",
        "from sklearn.datasets import load_boston\r\n",
        "from sklearn.preprocessing import StandardScaler\r\n",
        "\r\n",
        "# 데이터 로드\r\n",
        "boston=load_boston()\r\n",
        "features=boston.data\r\n",
        "target=boston.target\r\n",
        "\r\n",
        "# 특성 표준화\r\n",
        "scaler = StandardScaler()\r\n",
        "features_standardized = scaler.fit_transform(features)\r\n",
        "\r\n",
        "# alpha 값을 지정한 리지 회귀를 만듬\r\n",
        "regression = Ridge(alpha=0.5)\r\n",
        "\r\n",
        "# 선형 회귀 모델 훈련\r\n",
        "model = regression.fit(features_standardized, target)"
      ],
      "execution_count": null,
      "outputs": []
    },
    {
      "cell_type": "markdown",
      "metadata": {
        "id": "d1rduAj2Mjx_"
      },
      "source": [
        "사이킷런의 RidgeCV 클래스를 사용하면 좋은 alpha 값을 선택할 수 있습니다."
      ]
    },
    {
      "cell_type": "code",
      "metadata": {
        "colab": {
          "base_uri": "https://localhost:8080/"
        },
        "id": "bp7pyDClMmSC",
        "outputId": "796f297e-4d51-4841-e0b8-e6c299ed75f1"
      },
      "source": [
        "# 라이브러리 임포트\r\n",
        "from sklearn.linear_model import RidgeCV\r\n",
        "\r\n",
        "# 세 개의 alpha 값에 대한 리지 회귀를 만듬\r\n",
        "regr_cv = RidgeCV(alphas=[0.1,1.0,10.0])\r\n",
        "\r\n",
        "# 선형 회귀 모델을 훈련\r\n",
        "model_cv=regr_cv.fit(features_standardized, target)\r\n",
        "\r\n",
        "# 계수 확인\r\n",
        "model_cv.coef_"
      ],
      "execution_count": null,
      "outputs": [
        {
          "output_type": "execute_result",
          "data": {
            "text/plain": [
              "array([-0.91987132,  1.06646104,  0.11738487,  0.68512693, -2.02901013,\n",
              "        2.68275376,  0.01315848, -3.07733968,  2.59153764, -2.0105579 ,\n",
              "       -2.05238455,  0.84884839, -3.73066646])"
            ]
          },
          "metadata": {
            "tags": []
          },
          "execution_count": 37
        }
      ]
    },
    {
      "cell_type": "code",
      "metadata": {
        "colab": {
          "base_uri": "https://localhost:8080/"
        },
        "id": "UBdmYX9aMsl9",
        "outputId": "6d56ac1e-a8b1-4ab6-cbfc-e25e3b808c5a"
      },
      "source": [
        "# alpha 값 확인\r\n",
        "model_cv.alpha_"
      ],
      "execution_count": null,
      "outputs": [
        {
          "output_type": "execute_result",
          "data": {
            "text/plain": [
              "1.0"
            ]
          },
          "metadata": {
            "tags": []
          },
          "execution_count": 38
        }
      ]
    },
    {
      "cell_type": "markdown",
      "metadata": {
        "id": "m1wSDCmLMudn"
      },
      "source": [
        "RidgeCV 클래스의 cv 매개변수를 사용해 교차검증 방식을 지정할 수 있다"
      ]
    },
    {
      "cell_type": "code",
      "metadata": {
        "colab": {
          "base_uri": "https://localhost:8080/"
        },
        "id": "Vb7GYYnDM1VH",
        "outputId": "d9473eb5-b3ed-4cfe-d444-354986694328"
      },
      "source": [
        "# 5-폴드 교차검증을 사용하여 리지 회귀를 만듬\r\n",
        "regr_cv=RidgeCV(alphas=[0.1,1.0,10.0],cv=5)\r\n",
        "\r\n",
        "# 선형 회귀 모델을 훈련\r\n",
        "model_cv=regr_cv.fit(features_standardized,target)\r\n",
        "\r\n",
        "# alpha 값 확인\r\n",
        "model_cv.alpha_"
      ],
      "execution_count": null,
      "outputs": [
        {
          "output_type": "execute_result",
          "data": {
            "text/plain": [
              "10.0"
            ]
          },
          "metadata": {
            "tags": []
          },
          "execution_count": 39
        }
      ]
    },
    {
      "cell_type": "markdown",
      "metadata": {
        "id": "wyN8L5m0XGyf"
      },
      "source": [
        "**13.5 라소 회귀로 특성 줄이기**\r\n",
        "\r\n",
        "특성의 수를 줄여서 선형 회귀 모델을 단순하게 만들고 싶음\r\n",
        "-> 라소 회귀 사용"
      ]
    },
    {
      "cell_type": "code",
      "metadata": {
        "id": "ytmo2UqJXNNl"
      },
      "source": [
        "# 라이브러리 임포트\r\n",
        "from sklearn.linear_model import Lasso\r\n",
        "from sklearn.datasets import load_boston\r\n",
        "from sklearn.preprocessing import StandardScaler\r\n",
        "\r\n",
        "# 데이터 로드\r\n",
        "boston=load_boston()\r\n",
        "features=boston.data\r\n",
        "target=boston.target\r\n",
        "\r\n",
        "# 특성 표준화\r\n",
        "scaler = StandardScaler()\r\n",
        "features_standardized = scaler.fit_transform(features)\r\n",
        "\r\n",
        "# alpha 값을 지정한 리지 회귀를 만듬\r\n",
        "regression = Lasso(alpha=0.5)\r\n",
        "\r\n",
        "# 선형 회귀 모델 훈련\r\n",
        "model = regression.fit(features_standardized, target)"
      ],
      "execution_count": null,
      "outputs": []
    },
    {
      "cell_type": "code",
      "metadata": {
        "colab": {
          "base_uri": "https://localhost:8080/"
        },
        "id": "QzQ-y7w0XZjd",
        "outputId": "1439ef41-6683-40fc-ae51-4d10c0bdeb1b"
      },
      "source": [
        "# 계수를 확인\r\n",
        "model.coef_"
      ],
      "execution_count": null,
      "outputs": [
        {
          "output_type": "execute_result",
          "data": {
            "text/plain": [
              "array([-0.11526463,  0.        , -0.        ,  0.39707879, -0.        ,\n",
              "        2.97425861, -0.        , -0.17056942, -0.        , -0.        ,\n",
              "       -1.59844856,  0.54313871, -3.66614361])"
            ]
          },
          "metadata": {
            "tags": []
          },
          "execution_count": 42
        }
      ]
    },
    {
      "cell_type": "code",
      "metadata": {
        "colab": {
          "base_uri": "https://localhost:8080/"
        },
        "id": "GUKZ8th_Xf6j",
        "outputId": "677c24c9-5172-48b2-db18-41d01ca65048"
      },
      "source": [
        "# 큰 alpha 값을 지정한 라소 회귀 만듬\r\n",
        "regression_a10=Lasso(alpha=10)\r\n",
        "model_a10=regression_a10.fit(features_standardized,target)\r\n",
        "model_a10.coef_"
      ],
      "execution_count": null,
      "outputs": [
        {
          "output_type": "execute_result",
          "data": {
            "text/plain": [
              "array([-0.,  0., -0.,  0., -0.,  0., -0.,  0., -0., -0., -0.,  0., -0.])"
            ]
          },
          "metadata": {
            "tags": []
          },
          "execution_count": 43
        }
      ]
    },
    {
      "cell_type": "markdown",
      "metadata": {
        "id": "Jtp8WKscXv94"
      },
      "source": [
        "LassoCV 클래스를 사용해 라소의 alpha 값을 찾을 수 있다.\r\n",
        "LassoCV의 cv 매개변수 기본값은 3으로 3-폴드 교차검증 사용"
      ]
    },
    {
      "cell_type": "code",
      "metadata": {
        "colab": {
          "base_uri": "https://localhost:8080/"
        },
        "id": "HoTqH6CUX3tl",
        "outputId": "44aea2a8-eaea-4a7a-c49b-859e6e2edbbd"
      },
      "source": [
        "# 라이브러리를 임포트\r\n",
        "from sklearn.linear_model import LassoCV\r\n",
        "\r\n",
        "# 세 개의 alpha 값에 대한 라소 회귀를 만듬\r\n",
        "lasso_cv = LassoCV(alphas=[0.1,1.0,10.0], cv=5)\r\n",
        "\r\n",
        "# 선형 회귀 모델 훈련\r\n",
        "model_cv = lasso_cv.fit(features_standardized, target)\r\n",
        "\r\n",
        "# 계수 확인\r\n",
        "model_cv.coef_"
      ],
      "execution_count": null,
      "outputs": [
        {
          "output_type": "execute_result",
          "data": {
            "text/plain": [
              "array([-0.63230364,  0.70840931, -0.        ,  0.65760723, -1.57419335,\n",
              "        2.82626903, -0.        , -2.42207901,  1.19593681, -0.84646778,\n",
              "       -1.92249345,  0.76216539, -3.72618383])"
            ]
          },
          "metadata": {
            "tags": []
          },
          "execution_count": 44
        }
      ]
    },
    {
      "cell_type": "code",
      "metadata": {
        "colab": {
          "base_uri": "https://localhost:8080/"
        },
        "id": "1zJ8hXe2YPnR",
        "outputId": "b933b851-8a21-488a-8d4d-d7bb9e6134dd"
      },
      "source": [
        "# alpha 값을 확인\r\n",
        "model_cv.alpha_"
      ],
      "execution_count": null,
      "outputs": [
        {
          "output_type": "execute_result",
          "data": {
            "text/plain": [
              "0.1"
            ]
          },
          "metadata": {
            "tags": []
          },
          "execution_count": 45
        }
      ]
    },
    {
      "cell_type": "markdown",
      "metadata": {
        "id": "nU5--YBBYYDp"
      },
      "source": [
        "LassoCV는 n_alphas 매개변수를 사용해 자동으로 탐색 대상 값 생성 가능; \r\n",
        "기본값-100"
      ]
    },
    {
      "cell_type": "code",
      "metadata": {
        "colab": {
          "base_uri": "https://localhost:8080/"
        },
        "id": "jN7ejl02YTlV",
        "outputId": "41f8f7af-f185-43dc-e0e6-94dcc63f7110"
      },
      "source": [
        "# 1000개의 alpha 값을 탐색하는 라소 회귀 만듬\r\n",
        "lasso_cv = LassoCV(n_alphas=1000,cv=5)\r\n",
        "\r\n",
        "# 선형 회귀 모델 훈련\r\n",
        "model_cv = lasso_cv.fit(features_standardized, target)\r\n",
        "\r\n",
        "# 계수 확인\r\n",
        "model_cv.alpha_"
      ],
      "execution_count": null,
      "outputs": [
        {
          "output_type": "execute_result",
          "data": {
            "text/plain": [
              "0.15326173083090813"
            ]
          },
          "metadata": {
            "tags": []
          },
          "execution_count": 46
        }
      ]
    }
  ]
}